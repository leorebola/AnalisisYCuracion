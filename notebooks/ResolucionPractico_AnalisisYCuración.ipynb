{
  "nbformat": 4,
  "nbformat_minor": 0,
  "metadata": {
    "colab": {
      "name": "AnalisisYCuración.ipynb",
      "provenance": [],
      "collapsed_sections": [
        "E4il1T8w106G",
        "mlyo0fIO7EzA",
        "aq92Vpj8PELk"
      ]
    },
    "kernelspec": {
      "name": "python3",
      "display_name": "Python 3"
    }
  },
  "cells": [
    {
      "cell_type": "markdown",
      "metadata": {
        "id": "1pNmwCYXZ0Ok",
        "colab_type": "text"
      },
      "source": [
        "# Práctico Análisis Exploratorio y Curación de Datos"
      ]
    },
    {
      "cell_type": "code",
      "metadata": {
        "id": "klpBV3SuYYGd",
        "colab_type": "code",
        "colab": {
          "base_uri": "https://localhost:8080/",
          "height": 34
        },
        "outputId": "0cc4b928-fb74-4406-afc7-5dd9cb8fad19"
      },
      "source": [
        "from IPython.display import display, Markdown\n",
        "\n",
        "def display_markdown(*args, **kwargs):\n",
        "    return display(Markdown(*args, **kwargs))\n",
        "\n",
        "import numpy as np\n",
        "import pandas as pd\n",
        "import matplotlib as mpl\n",
        "import matplotlib.pyplot as plt\n",
        "import seaborn as sbn\n",
        "from sklearn import preprocessing\n",
        "from sklearn.preprocessing import LabelBinarizer\n",
        "from hashlib import md5\n",
        "\n",
        "import sys\n",
        "if 'ftfy' not in sys.modules:\n",
        "    !pip install 'ftfy<5.6'\n",
        "import ftfy.badness as bad\n",
        "\n",
        "!pip install feedparser\n",
        "import feedparser\n",
        "\n",
        "pd.options.display.float_format = '{:.2f}'.format\n",
        "\n",
        "BLUE = '#35A7FF'"
      ],
      "execution_count": 43,
      "outputs": [
        {
          "output_type": "stream",
          "text": [
            "Requirement already satisfied: feedparser in /usr/local/lib/python3.6/dist-packages (5.2.1)\n"
          ],
          "name": "stdout"
        }
      ]
    },
    {
      "cell_type": "markdown",
      "metadata": {
        "id": "nuKhNeyGR4pK",
        "colab_type": "text"
      },
      "source": [
        "##  Ingesta de Datos\n",
        "\n",
        "### Formatos de Datos - CSV\n",
        "\n",
        "####  Ejercicio 1: Tablas de Crecimiento\n",
        "1. Descargar dataset en CSV\n",
        "[Tablas de Peso](https://github.com/DiploDatos/AnalisisYCuracion/blob/master/input/wtageinf.csv)\n",
        "Basado en material de https://www.cdc.gov/growthcharts/percentile_data_files.htm\n",
        "\n",
        "2. Graficar las curvas correspondientes a cada percentil para niños y niñas\n",
        "- En la columna Sex, 1 representa a niños y 2 a niñas\n",
        "- Las curvas de los percentiles correspondientes a un mismo sexo deben ir en un mismo\n",
        "gráfico.\n",
        "- Un gráfico para cada sexo"
      ]
    },
    {
      "cell_type": "code",
      "metadata": {
        "id": "vEti57W-R5Wj",
        "colab_type": "code",
        "colab": {}
      },
      "source": [
        "# datasets\n",
        "ds_tablas_peso = pd.read_csv(\"https://raw.githubusercontent.com/DiploDatos/AnalisisYCuracion/master/input/wtageinf.csv\")\n",
        "ds_tablas_peso_chicos = ds_tablas_peso[ds_tablas_peso['Sex'] == 1]\n",
        "ds_tablas_peso_chicas = ds_tablas_peso[ds_tablas_peso['Sex'] == 2]"
      ],
      "execution_count": 44,
      "outputs": []
    },
    {
      "cell_type": "code",
      "metadata": {
        "id": "huPqOfQtarWe",
        "colab_type": "code",
        "colab": {
          "base_uri": "https://localhost:8080/",
          "height": 278
        },
        "outputId": "58a02f19-c421-4bde-906d-016e902d4790"
      },
      "source": [
        "ds_tablas_peso.dtypes"
      ],
      "execution_count": 45,
      "outputs": [
        {
          "output_type": "execute_result",
          "data": {
            "text/plain": [
              "Sex         int64\n",
              "Agemos    float64\n",
              "L         float64\n",
              "M         float64\n",
              "S         float64\n",
              "P3        float64\n",
              "P5        float64\n",
              "P10       float64\n",
              "P25       float64\n",
              "P50       float64\n",
              "P75       float64\n",
              "P90       float64\n",
              "P95       float64\n",
              "P97       float64\n",
              "dtype: object"
            ]
          },
          "metadata": {
            "tags": []
          },
          "execution_count": 45
        }
      ]
    },
    {
      "cell_type": "code",
      "metadata": {
        "id": "rpBKoyNCx0Nb",
        "colab_type": "code",
        "colab": {
          "base_uri": "https://localhost:8080/",
          "height": 621
        },
        "outputId": "7a603d2f-0a92-49aa-c949-fa3f41c17103"
      },
      "source": [
        "ds_tablas_peso_chicos_melt = ds_tablas_peso_chicos.melt('Agemos', var_name='Percentiles',  value_name='vals', value_vars=['P3', 'P5', 'P10', 'P25', 'P50', 'P75', 'P90', 'P95', 'P97'])\n",
        "plt.figure(figsize=(20,10))\n",
        "plt.subplot(121)\n",
        "sbn.lineplot(data=ds_tablas_peso_chicos_melt, x='Agemos', y='vals', hue='Percentiles')\n",
        "plt.xlabel('Meses')\n",
        "plt.ylabel('Peso')\n",
        "plt.title('Percentiles Niños')\n",
        "sbn.despine()\n",
        "\n",
        "ds_tablas_peso_chicas_melt = ds_tablas_peso_chicas.melt('Agemos', var_name='Percentiles',  value_name='vals', value_vars=['P3', 'P5', 'P10', 'P25', 'P50', 'P75', 'P90', 'P95', 'P97'])\n",
        "plt.subplot(122)\n",
        "sbn.lineplot(data=ds_tablas_peso_chicas_melt, x='Agemos', y='vals', hue='Percentiles')\n",
        "plt.xlabel('Meses')\n",
        "plt.ylabel('Peso')\n",
        "plt.title('Percentiles Niñas')\n",
        "sbn.despine()"
      ],
      "execution_count": 46,
      "outputs": [
        {
          "output_type": "display_data",
          "data": {
            "image/png": "[encoded data removed]",
            "text/plain": [
              "<Figure size 1440x720 with 2 Axes>"
            ]
          },
          "metadata": {
            "tags": [],
            "needs_background": "light"
          }
        }
      ]
    },
    {
      "cell_type": "markdown",
      "metadata": {
        "id": "i9_MQ1LoR9iv",
        "colab_type": "text"
      },
      "source": [
        "### Formato de Datos - JSON\n",
        "\n",
        "#### Ejercicio 2: Pasos Fronterizos\n",
        "\n",
        "1. Descargar dataset en JSON: [Pasos Fronterizos](https://github.com/DiploDatos/AnalisisYCuracion/blob/master/input/pasos.json)\n",
        "2. Graficar un gráfico de barras agrupando por valor del atributo “province”."
      ]
    },
    {
      "cell_type": "code",
      "metadata": {
        "id": "eFDRp4KaTXck",
        "colab_type": "code",
        "colab": {}
      },
      "source": [
        "pasos_fronterizos = pd.read_json(\"https://raw.githubusercontent.com/DiploDatos/AnalisisYCuracion/master/input/pasos.json\")"
      ],
      "execution_count": 47,
      "outputs": []
    },
    {
      "cell_type": "code",
      "metadata": {
        "id": "5cKfFsLhzylS",
        "colab_type": "code",
        "colab": {
          "base_uri": "https://localhost:8080/",
          "height": 735
        },
        "outputId": "47855d95-c601-4173-9653-3029d1d40968"
      },
      "source": [
        "plt.figure(figsize=(20,6))\n",
        "sbn.countplot(data=pasos_fronterizos, x='province', color=BLUE)\n",
        "plt.xticks(rotation=90);\n",
        "plt.title('Pasos Fronterizos Argentina')\n",
        "sbn.despine()"
      ],
      "execution_count": 48,
      "outputs": [
        {
          "output_type": "display_data",
          "data": {
            "image/png": "[encoded data removed]",
            "text/plain": [
              "<Figure size 1440x432 with 1 Axes>"
            ]
          },
          "metadata": {
            "tags": [],
            "needs_background": "light"
          }
        }
      ]
    },
    {
      "cell_type": "code",
      "metadata": {
        "id": "q-ySzzSnSCTt",
        "colab_type": "code",
        "colab": {
          "base_uri": "https://localhost:8080/",
          "height": 511
        },
        "outputId": "03056e3c-f11c-42c3-d1d9-51e60d04a41c"
      },
      "source": [
        "# Se eliminan acentos, ignoran mayusculas/minusculas y reubica el aeropuerto a Santa Cruz.\n",
        "\n",
        "pasos_fronterizos['province'] = pasos_fronterizos['province'].str.normalize('NFKD').str.encode('ascii', errors='ignore').str.decode('utf-8')\n",
        "pasos_fronterizos[\"province\"].replace({\"AEROPUERTO INTERNACIONAL PILOTO CIVIL NORBERTO FERNANDEZ\": \"Santa Cruz\"}, inplace=True)\n",
        "pasos_fronterizos['province'] = pasos_fronterizos['province'].str.upper()\n",
        "\n",
        "plt.figure(figsize=(20,6))\n",
        "sbn.countplot(data=pasos_fronterizos, x='province', color=BLUE, order = pasos_fronterizos['province'].value_counts().index)\n",
        "plt.xticks(rotation=90);\n",
        "plt.title('Pasos Fronterizos Argentina')\n",
        "sbn.despine()"
      ],
      "execution_count": 49,
      "outputs": [
        {
          "output_type": "display_data",
          "data": {
            "image/png": "[encoded data removed]",
            "text/plain": [
              "<Figure size 1440x432 with 1 Axes>"
            ]
          },
          "metadata": {
            "tags": [],
            "needs_background": "light"
          }
        }
      ]
    },
    {
      "cell_type": "code",
      "metadata": {
        "id": "i84JmAFyRQzW",
        "colab_type": "code",
        "colab": {}
      },
      "source": [
        ""
      ],
      "execution_count": 49,
      "outputs": []
    },
    {
      "cell_type": "markdown",
      "metadata": {
        "id": "3yGzhzOKTUtO",
        "colab_type": "text"
      },
      "source": [
        "### Representación de Datos - Grafos\n",
        "\n",
        "- edgeList = [ [0, 2], [1, 3], [2, 3],\n",
        " [2, 4], [3, 5], [4, 5] ];\n",
        "- adjMatrix = [...];\n",
        "- adjList = [...];"
      ]
    },
    {
      "cell_type": "code",
      "metadata": {
        "id": "I3MXmarYvTti",
        "colab_type": "code",
        "colab": {}
      },
      "source": [
        "def edgeListToAdjMaxix(edgeList):\n",
        "    \n",
        "    max_value = max(map(max, edgeList)) +1\n",
        "    \n",
        "    adjMatrix = np.zeros((max_value, max_value), dtype=int)\n",
        "    \n",
        "    for row in edgeList:\n",
        "        adjMatrix[row[0]][row[1]] = 1\n",
        "        \n",
        "    table_names = np.arange(0, max_value)\n",
        "    \n",
        "    ds_adjMatrix = pd.DataFrame(data=adjMatrix,    # values\n",
        "                    index=table_names,             # 1st column as index\n",
        "                    columns=table_names)           # 1st row as the column names\n",
        "    \n",
        "    return ds_adjMatrix"
      ],
      "execution_count": 50,
      "outputs": []
    },
    {
      "cell_type": "code",
      "metadata": {
        "id": "OIvzoEatTYOm",
        "colab_type": "code",
        "colab": {
          "base_uri": "https://localhost:8080/",
          "height": 238
        },
        "outputId": "80c0ba78-01ca-429a-f959-dcfb81951f53"
      },
      "source": [
        "edgeList = np.array([ [0, 2], [1, 3], [2, 3], [2, 4], [3, 5], [4, 5] ])\n",
        "edgeListToAdjMaxix(edgeList)"
      ],
      "execution_count": 51,
      "outputs": [
        {
          "output_type": "execute_result",
          "data": {
            "text/html": [
              "<div>\n",
              "<style scoped>\n",
              "    .dataframe tbody tr th:only-of-type {\n",
              "        vertical-align: middle;\n",
              "    }\n",
              "\n",
              "    .dataframe tbody tr th {\n",
              "        vertical-align: top;\n",
              "    }\n",
              "\n",
              "    .dataframe thead th {\n",
              "        text-align: right;\n",
              "    }\n",
              "</style>\n",
              "<table border=\"1\" class=\"dataframe\">\n",
              "  <thead>\n",
              "    <tr style=\"text-align: right;\">\n",
              "      <th></th>\n",
              "      <th>0</th>\n",
              "      <th>1</th>\n",
              "      <th>2</th>\n",
              "      <th>3</th>\n",
              "      <th>4</th>\n",
              "      <th>5</th>\n",
              "    </tr>\n",
              "  </thead>\n",
              "  <tbody>\n",
              "    <tr>\n",
              "      <th>0</th>\n",
              "      <td>0</td>\n",
              "      <td>0</td>\n",
              "      <td>1</td>\n",
              "      <td>0</td>\n",
              "      <td>0</td>\n",
              "      <td>0</td>\n",
              "    </tr>\n",
              "    <tr>\n",
              "      <th>1</th>\n",
              "      <td>0</td>\n",
              "      <td>0</td>\n",
              "      <td>0</td>\n",
              "      <td>1</td>\n",
              "      <td>0</td>\n",
              "      <td>0</td>\n",
              "    </tr>\n",
              "    <tr>\n",
              "      <th>2</th>\n",
              "      <td>0</td>\n",
              "      <td>0</td>\n",
              "      <td>0</td>\n",
              "      <td>1</td>\n",
              "      <td>1</td>\n",
              "      <td>0</td>\n",
              "    </tr>\n",
              "    <tr>\n",
              "      <th>3</th>\n",
              "      <td>0</td>\n",
              "      <td>0</td>\n",
              "      <td>0</td>\n",
              "      <td>0</td>\n",
              "      <td>0</td>\n",
              "      <td>1</td>\n",
              "    </tr>\n",
              "    <tr>\n",
              "      <th>4</th>\n",
              "      <td>0</td>\n",
              "      <td>0</td>\n",
              "      <td>0</td>\n",
              "      <td>0</td>\n",
              "      <td>0</td>\n",
              "      <td>1</td>\n",
              "    </tr>\n",
              "    <tr>\n",
              "      <th>5</th>\n",
              "      <td>0</td>\n",
              "      <td>0</td>\n",
              "      <td>0</td>\n",
              "      <td>0</td>\n",
              "      <td>0</td>\n",
              "      <td>0</td>\n",
              "    </tr>\n",
              "  </tbody>\n",
              "</table>\n",
              "</div>"
            ],
            "text/plain": [
              "   0  1  2  3  4  5\n",
              "0  0  0  1  0  0  0\n",
              "1  0  0  0  1  0  0\n",
              "2  0  0  0  1  1  0\n",
              "3  0  0  0  0  0  1\n",
              "4  0  0  0  0  0  1\n",
              "5  0  0  0  0  0  0"
            ]
          },
          "metadata": {
            "tags": []
          },
          "execution_count": 51
        }
      ]
    },
    {
      "cell_type": "code",
      "metadata": {
        "id": "fF2pGYZwGD68",
        "colab_type": "code",
        "colab": {}
      },
      "source": [
        "def edgeListToAdjList(edgeList, tipo='dirigido'):\n",
        "    max_value = max(map(max, edgeList)) +1\n",
        "    \n",
        "    adjList = [ [] for _ in range(max_value) ]\n",
        "\n",
        "    for row in edgeList:\n",
        "        i = row[0]\n",
        "        j = row[1]\n",
        "\n",
        "        adjList[i].append(j)\n",
        "        if tipo == 'no_dirigido' :\n",
        "            adjList[j].append(i)\n",
        "\n",
        "    return adjList"
      ],
      "execution_count": 52,
      "outputs": []
    },
    {
      "cell_type": "code",
      "metadata": {
        "id": "hIfQ4UnaGEPt",
        "colab_type": "code",
        "colab": {
          "base_uri": "https://localhost:8080/",
          "height": 52
        },
        "outputId": "7bc2aa8f-4bdd-406f-ba89-a467fbda452f"
      },
      "source": [
        "print('Dirigido: {}'.format(edgeListToAdjList(edgeList)))\n",
        "print('Si fuera No Dirigido: {}'.format(edgeListToAdjList(edgeList, tipo='no_dirigido')))\n"
      ],
      "execution_count": 53,
      "outputs": [
        {
          "output_type": "stream",
          "text": [
            "Dirigido: [[2], [3], [3, 4], [5], [5], []]\n",
            "Si fuera No Dirigido: [[2], [3], [0, 3, 4], [1, 2, 5], [2, 5], [3, 4]]\n"
          ],
          "name": "stdout"
        }
      ]
    },
    {
      "cell_type": "code",
      "metadata": {
        "id": "DVJGp6kEo0Y1",
        "colab_type": "code",
        "colab": {
          "base_uri": "https://localhost:8080/",
          "height": 248
        },
        "outputId": "4f8a981a-adb7-4577-fa69-a24572945fb1"
      },
      "source": [
        "import networkx as nx\n",
        "import numpy as np\n",
        "\n",
        "edgeList = np.array([ [0, 2], [1, 3], [2, 3], [2, 4], [3, 5], [4, 5] ])\n",
        "G = nx.DiGraph()\n",
        "G.add_edges_from(edgeList)\n",
        "# Plot it\n",
        "nx.draw_networkx(G, arrows=True, with_labels=True)"
      ],
      "execution_count": 54,
      "outputs": [
        {
          "output_type": "display_data",
          "data": {
            "image/png": "[encoded data removed]",
            "text/plain": [
              "<Figure size 432x288 with 1 Axes>"
            ]
          },
          "metadata": {
            "tags": []
          }
        }
      ]
    },
    {
      "cell_type": "markdown",
      "metadata": {
        "id": "yfhuebZjTW9t",
        "colab_type": "text"
      },
      "source": [
        "### Limpieza de Datos\n",
        "\n",
        "Realizar todos los ejercicios del notebook Limpieza.ipynb\n",
        "Consideraciones para todos ejercicios:\n",
        "- Los notebooks deben poder reproducirse\n",
        "- Es decir, deben poder re-ejecutarse en un paso sin errores siguiendo las instrucciones\n",
        "dadas\n",
        "- Ej. En Limpieza.ipynb quiten las celdas que dan error y las que no son significativas\n",
        "- Probar los ejercicios en un entorno limpio desde 0 antes de entregar.\n",
        "- Seguir las propias instrucciones al detalle o mejor dar a un tercero y revisar\n",
        "\n",
        "**Estos ejercicios se encuentran a continuación de los ejercicios de clase.**\n"
      ]
    },
    {
      "cell_type": "code",
      "metadata": {
        "id": "4KDeQjK0GC85",
        "colab_type": "code",
        "colab": {}
      },
      "source": [
        ""
      ],
      "execution_count": 54,
      "outputs": []
    },
    {
      "cell_type": "code",
      "metadata": {
        "id": "KBUmLFxUTbuN",
        "colab_type": "code",
        "colab": {}
      },
      "source": [
        ""
      ],
      "execution_count": 54,
      "outputs": []
    },
    {
      "cell_type": "markdown",
      "metadata": {
        "id": "ujhG4UDHTb46",
        "colab_type": "text"
      },
      "source": [
        "### Ingestión de Datos - SQL\n",
        "Descargar DB de ejemplo: \n",
        "- Canciones de Iron Maiden\n",
        "- Discos con más de 25 canciones\n",
        "- Las 10 canciones más populares\n",
        "- Reescribir la siguiente consulta con JOIN\n",
        "\n",
        "```sql\n",
        "SELECT trackid, name\n",
        "FROM tracks\n",
        "WHERE albumid = (\n",
        " SELECT albumid\n",
        " FROM albums\n",
        " WHERE title = ‘Let There Be Rock’\n",
        ");\n",
        "```"
      ]
    },
    {
      "cell_type": "markdown",
      "metadata": {
        "id": "V4Jjha2HU3LM",
        "colab_type": "text"
      },
      "source": [
        "**Canciones de Iron Maiden:**\n",
        "```sql\n",
        "SELECT\n",
        "\tTRA.NAME, ALB.TITLE, ART.NAME\n",
        "FROM\n",
        "\tARTISTS ART,\n",
        "\tALBUMS ALB,\n",
        "\tTRACKS TRA\n",
        "WHERE\n",
        "\tART.ARTISTID = ALB.ARTISTID AND\n",
        "\tALB.ALBUMID = TRA.ALBUMID AND\n",
        "\tART.NAME = 'Iron Maiden';\n",
        "```\n",
        "**Discos con más de 25 canciones**\n",
        "\n",
        "```sql\n",
        "SELECT\n",
        "    COUNT(TRA.NAME) AS COUNT_TRACKS, ALB.TITLE AS ALBUM, ART.NAME AS ARTISTA\n",
        "FROM\n",
        "    ARTISTS ART\n",
        "    INNER JOIN ALBUMS ALB\n",
        "    INNER JOIN TRACKS TRA\n",
        "ON\n",
        "    ART.ARTISTID = ALB.ARTISTID AND\n",
        "    ALB.ALBUMID = TRA.ALBUMID\n",
        "GROUP BY ALBUM\n",
        "HAVING COUNT_TRACKS > 25\n",
        "ORDER BY COUNT_TRACKS DESC;\n",
        "```\n",
        "\n",
        "**Las 10 canciones más populares (compradas)**\n",
        "\n",
        "```sql\n",
        "SELECT\n",
        "\tTRA.TRACKID, TRA.NAME AS CANCIONES, ALB.TITLE AS ALBUM, ART.NAME AS ARTISTA, INV.TRACKID, COUNT(INV.QUANTITY) AS COUNT_PURCHASES\n",
        "FROM\n",
        "\tARTISTS ART\n",
        "\tINNER JOIN ALBUMS ALB\n",
        "\tINNER JOIN TRACKS TRA\n",
        "\tINNER JOIN INVOICE_ITEMS INV\n",
        "ON\n",
        "\tART.ARTISTID = ALB.ARTISTID AND\n",
        "\tALB.ALBUMID = TRA.ALBUMID AND\n",
        "\tTRA.TRACKID = INV.TRACKID\n",
        "GROUP BY INV.TRACKID\n",
        "ORDER BY COUNT_PURCHASES DESC\n",
        "LIMIT 10;\n",
        "```\n",
        "\n",
        "**Las 10 canciones más populares (playlist)**\n",
        "\n",
        "```sql\n",
        "SELECT\n",
        "\tTRA.TRACKID, TRA.NAME AS CANCIONES, ALB.TITLE AS ALBUM, ART.NAME AS ARTISTA, COUNT(*) AS COUNT_PLAYLIST\n",
        "FROM\n",
        "\tARTISTS ART\n",
        "\tINNER JOIN ALBUMS ALB\n",
        "\tINNER JOIN TRACKS TRA\n",
        "\tINNER JOIN PLAYLIST_TRACK PLAY\n",
        "ON\n",
        "\tART.ARTISTID = ALB.ARTISTID AND\n",
        "\tALB.ALBUMID = TRA.ALBUMID AND\n",
        "\tTRA.TRACKID = PLAY.TRACKID\n",
        "GROUP BY PLAY.TRACKID\n",
        "ORDER BY COUNT_PLAYLIST DESC\n",
        "LIMIT 10;\n",
        "```\n",
        "\n",
        "**Reescribir la consulta con JOIN**\n",
        "```sql\n",
        "SELECT TRACKID, NAME\n",
        "FROM TRACKS\n",
        "\tINNER JOIN ALBUMS\n",
        "ON\n",
        "\tALBUMS.ALBUMID = TRACKS.ALBUMID\n",
        "WHERE\n",
        "\tTITLE = \"Let There Be Rock\";\n",
        "```"
      ]
    },
    {
      "cell_type": "markdown",
      "metadata": {
        "id": "CzU37-aPTj5v",
        "colab_type": "text"
      },
      "source": [
        "### Ingestión de Datos - RSS\n",
        "Descargar títulos de artículos de Tecnología de La Voz del Interior\n",
        "- Ayuda 1 : https://www.lavoz.com.ar/rss/tecnologia.xml\n",
        "- Ayuda 2: pip install feedparser\n",
        "- Ayuda 3: https://github.com/playgrdstar/rss_ingestion/blob/master/RSS%20Ingestion.ipynb"
      ]
    },
    {
      "cell_type": "code",
      "metadata": {
        "id": "rdS4VKPaTkVH",
        "colab_type": "code",
        "colab": {
          "base_uri": "https://localhost:8080/",
          "height": 761
        },
        "outputId": "ce4573cd-acfc-42ac-e17b-f03c6761bc82"
      },
      "source": [
        "feed = feedparser.parse('https://www.lavoz.com.ar/rss/tecnologia.xml')\n",
        "\n",
        "display_markdown('### Títulos: La Voz - Tecnología')\n",
        "for item in feed.entries:\n",
        "    display_markdown('- {}'.format(item.title))"
      ],
      "execution_count": 55,
      "outputs": [
        {
          "output_type": "display_data",
          "data": {
            "text/markdown": "### Títulos: La Voz - Tecnología",
            "text/plain": [
              "<IPython.core.display.Markdown object>"
            ]
          },
          "metadata": {
            "tags": []
          }
        },
        {
          "output_type": "display_data",
          "data": {
            "text/markdown": "- Fifa 21 trae novedades en el modo carrera, un gameplay más realista, y nuevas formas de jugar online en equipo",
            "text/plain": [
              "<IPython.core.display.Markdown object>"
            ]
          },
          "metadata": {
            "tags": []
          }
        },
        {
          "output_type": "display_data",
          "data": {
            "text/markdown": "- Ya se puede retransmitir en directo en Facebook desde las salas de Messenger",
            "text/plain": [
              "<IPython.core.display.Markdown object>"
            ]
          },
          "metadata": {
            "tags": []
          }
        },
        {
          "output_type": "display_data",
          "data": {
            "text/markdown": "- Twitter tuvo un primer semestre para el olvido: perdió U$S 1.236 millones",
            "text/plain": [
              "<IPython.core.display.Markdown object>"
            ]
          },
          "metadata": {
            "tags": []
          }
        },
        {
          "output_type": "display_data",
          "data": {
            "text/markdown": "- Twitter: hackers accedieron a mensajes privados de 36 de las 130 cuentas afectadas por el ataque a la plataforma",
            "text/plain": [
              "<IPython.core.display.Markdown object>"
            ]
          },
          "metadata": {
            "tags": []
          }
        },
        {
          "output_type": "display_data",
          "data": {
            "text/markdown": "- Google pospone a marzo de 2021 la indexación de las páginas web y le da prioridad a su versión móvil",
            "text/plain": [
              "<IPython.core.display.Markdown object>"
            ]
          },
          "metadata": {
            "tags": []
          }
        },
        {
          "output_type": "display_data",
          "data": {
            "text/markdown": "- Nuevas medidas de seguridad para Facebook Messenger: mensajes privados con autenticación biométrica",
            "text/plain": [
              "<IPython.core.display.Markdown object>"
            ]
          },
          "metadata": {
            "tags": []
          }
        },
        {
          "output_type": "display_data",
          "data": {
            "text/markdown": "- Lenovo presenta su primer smartphone gaming: Legion Phone Duel, optimizado para jugar en horizontal",
            "text/plain": [
              "<IPython.core.display.Markdown object>"
            ]
          },
          "metadata": {
            "tags": []
          }
        },
        {
          "output_type": "display_data",
          "data": {
            "text/markdown": "- Gmail verificará la identidad de las empresas con un logo para evitar correos maliciosos",
            "text/plain": [
              "<IPython.core.display.Markdown object>"
            ]
          },
          "metadata": {
            "tags": []
          }
        },
        {
          "output_type": "display_data",
          "data": {
            "text/markdown": "- Sólo Facebook sabe qué es lo más popular en su red social",
            "text/plain": [
              "<IPython.core.display.Markdown object>"
            ]
          },
          "metadata": {
            "tags": []
          }
        },
        {
          "output_type": "display_data",
          "data": {
            "text/markdown": "- Día del Amigo: las videollamadas por Whatsapp crecieron 500% este lunes",
            "text/plain": [
              "<IPython.core.display.Markdown object>"
            ]
          },
          "metadata": {
            "tags": []
          }
        },
        {
          "output_type": "display_data",
          "data": {
            "text/markdown": "- Netflix llega a la pantalla inteligente de Google, Nest Hub",
            "text/plain": [
              "<IPython.core.display.Markdown object>"
            ]
          },
          "metadata": {
            "tags": []
          }
        },
        {
          "output_type": "display_data",
          "data": {
            "text/markdown": "- Más de la mitad de la población mundial ya usa redes sociales",
            "text/plain": [
              "<IPython.core.display.Markdown object>"
            ]
          },
          "metadata": {
            "tags": []
          }
        },
        {
          "output_type": "display_data",
          "data": {
            "text/markdown": "- Hackeo a Wattpad expuso los datos de más de 271 millones de usuarios",
            "text/plain": [
              "<IPython.core.display.Markdown object>"
            ]
          },
          "metadata": {
            "tags": []
          }
        },
        {
          "output_type": "display_data",
          "data": {
            "text/markdown": "- Ransomware: un ataque de hackers afectó el sistema interno de Telecom",
            "text/plain": [
              "<IPython.core.display.Markdown object>"
            ]
          },
          "metadata": {
            "tags": []
          }
        },
        {
          "output_type": "display_data",
          "data": {
            "text/markdown": "- El nuevo altavoz inalámbrico de Sony integra un mando para escuchar la televisión en cualquier parte de la casa",
            "text/plain": [
              "<IPython.core.display.Markdown object>"
            ]
          },
          "metadata": {
            "tags": []
          }
        },
        {
          "output_type": "display_data",
          "data": {
            "text/markdown": "- Los hackers descargaron el historial de datos de 8 de las cuentas afectadas por el ataque a Twitter",
            "text/plain": [
              "<IPython.core.display.Markdown object>"
            ]
          },
          "metadata": {
            "tags": []
          }
        },
        {
          "output_type": "display_data",
          "data": {
            "text/markdown": "- Tamales, montoncito de dedos y trans: estos son los nuevos emojis que llegan a iPhone en septiembre",
            "text/plain": [
              "<IPython.core.display.Markdown object>"
            ]
          },
          "metadata": {
            "tags": []
          }
        },
        {
          "output_type": "display_data",
          "data": {
            "text/markdown": "- Día Mundial del Emoji: cuáles son sus significados según el contexto cultural",
            "text/plain": [
              "<IPython.core.display.Markdown object>"
            ]
          },
          "metadata": {
            "tags": []
          }
        },
        {
          "output_type": "display_data",
          "data": {
            "text/markdown": "- Twitter confirmó que fueron 130 las cuentas hackeadas",
            "text/plain": [
              "<IPython.core.display.Markdown object>"
            ]
          },
          "metadata": {
            "tags": []
          }
        },
        {
          "output_type": "display_data",
          "data": {
            "text/markdown": "- Zoom soluciona un fallo de seguridad en la personalización de url que permitía lanzar campañas de phishing",
            "text/plain": [
              "<IPython.core.display.Markdown object>"
            ]
          },
          "metadata": {
            "tags": []
          }
        },
        {
          "output_type": "display_data",
          "data": {
            "text/markdown": "- Ultra rápida: lanzan un sistema que carga el 33% de la batería del celu en tres minutos",
            "text/plain": [
              "<IPython.core.display.Markdown object>"
            ]
          },
          "metadata": {
            "tags": []
          }
        },
        {
          "output_type": "display_data",
          "data": {
            "text/markdown": "- La explicación de Twitter al hackeo masivo de cuentas",
            "text/plain": [
              "<IPython.core.display.Markdown object>"
            ]
          },
          "metadata": {
            "tags": []
          }
        },
        {
          "output_type": "display_data",
          "data": {
            "text/markdown": "- Hackearon las cuentas de Twitter de Obama, Biden y Gates",
            "text/plain": [
              "<IPython.core.display.Markdown object>"
            ]
          },
          "metadata": {
            "tags": []
          }
        },
        {
          "output_type": "display_data",
          "data": {
            "text/markdown": "- Facebook transmitirá videos musicales con licencia oficial a partir de agosto",
            "text/plain": [
              "<IPython.core.display.Markdown object>"
            ]
          },
          "metadata": {
            "tags": []
          }
        },
        {
          "output_type": "display_data",
          "data": {
            "text/markdown": "- Google Maps permite calibrar la ubicación del usuario con Live View",
            "text/plain": [
              "<IPython.core.display.Markdown object>"
            ]
          },
          "metadata": {
            "tags": []
          }
        },
        {
          "output_type": "display_data",
          "data": {
            "text/markdown": "- El nuevo diseño de Gmail integrará Chat, Rooms y Meet",
            "text/plain": [
              "<IPython.core.display.Markdown object>"
            ]
          },
          "metadata": {
            "tags": []
          }
        },
        {
          "output_type": "display_data",
          "data": {
            "text/markdown": "- Con el 5G aún en pañales, Samsung tiene fecha estimada para la llegada del 6G",
            "text/plain": [
              "<IPython.core.display.Markdown object>"
            ]
          },
          "metadata": {
            "tags": []
          }
        },
        {
          "output_type": "display_data",
          "data": {
            "text/markdown": "- Descubren una app de chat para Android que espía a los usuarios y roba sus datos",
            "text/plain": [
              "<IPython.core.display.Markdown object>"
            ]
          },
          "metadata": {
            "tags": []
          }
        },
        {
          "output_type": "display_data",
          "data": {
            "text/markdown": "- Venden un Súper Mario Bros de 1985 precintado por U$S 114.000 y se convierte en el juego más caro del mundo",
            "text/plain": [
              "<IPython.core.display.Markdown object>"
            ]
          },
          "metadata": {
            "tags": []
          }
        },
        {
          "output_type": "display_data",
          "data": {
            "text/markdown": "- Apple aconseja no usar protectores para tapar la webcam de los MacBook: qué alternativas propone",
            "text/plain": [
              "<IPython.core.display.Markdown object>"
            ]
          },
          "metadata": {
            "tags": []
          }
        }
      ]
    },
    {
      "cell_type": "markdown",
      "metadata": {
        "id": "QKDON58-1cmg",
        "colab_type": "text"
      },
      "source": [
        "# Limpieza de datos\n",
        "\n",
        "Vamos a aplicar el [checklist del Banco Mundial](https://dimewiki.worldbank.org/wiki/Checklist:_Data_Cleaning) en Python usando el [SciPy stack](https://www.scipy.org/stackspec.html), principalmente pandas"
      ]
    },
    {
      "cell_type": "code",
      "metadata": {
        "id": "Y8MQ7EY516a9",
        "colab_type": "code",
        "colab": {
          "base_uri": "https://localhost:8080/",
          "height": 34
        },
        "outputId": "8be2e280-aae0-4acc-cfb0-e4722af89598"
      },
      "source": [
        "BASE_DIR = \"https://github.com/DiploDatos/AnalisisYCuracion/raw/master/\"\n",
        "\n",
        "ks_2018 = pd.read_csv(BASE_DIR + \"/input/kickstarter-projects/ks-projects-201801.csv\", \n",
        "                               parse_dates=[\"deadline\",\"launched\"])\n",
        "\n",
        "ks_2018.shape"
      ],
      "execution_count": 56,
      "outputs": [
        {
          "output_type": "execute_result",
          "data": {
            "text/plain": [
              "(378661, 15)"
            ]
          },
          "metadata": {
            "tags": []
          },
          "execution_count": 56
        }
      ]
    },
    {
      "cell_type": "markdown",
      "metadata": {
        "id": "E4il1T8w106G",
        "colab_type": "text"
      },
      "source": [
        "#### Ejercicio 1:\n",
        "\n",
        "Armar una tabla con todos los proyectos con nombres duplicados, ordenados para revisar agrupados. "
      ]
    },
    {
      "cell_type": "code",
      "metadata": {
        "id": "N_WDQ_Bs2JxL",
        "colab_type": "code",
        "colab": {
          "base_uri": "https://localhost:8080/",
          "height": 808
        },
        "outputId": "8544d9e0-6cb4-4a8a-da1b-692a8017109d"
      },
      "source": [
        "ks_2018_duplicates = ks_2018[ks_2018.name.duplicated(keep=False)].sort_values(by='name')\n",
        "ks_2018_duplicates"
      ],
      "execution_count": 57,
      "outputs": [
        {
          "output_type": "execute_result",
          "data": {
            "text/html": [
              "<div>\n",
              "<style scoped>\n",
              "    .dataframe tbody tr th:only-of-type {\n",
              "        vertical-align: middle;\n",
              "    }\n",
              "\n",
              "    .dataframe tbody tr th {\n",
              "        vertical-align: top;\n",
              "    }\n",
              "\n",
              "    .dataframe thead th {\n",
              "        text-align: right;\n",
              "    }\n",
              "</style>\n",
              "<table border=\"1\" class=\"dataframe\">\n",
              "  <thead>\n",
              "    <tr style=\"text-align: right;\">\n",
              "      <th></th>\n",
              "      <th>ID</th>\n",
              "      <th>name</th>\n",
              "      <th>category</th>\n",
              "      <th>main_category</th>\n",
              "      <th>currency</th>\n",
              "      <th>deadline</th>\n",
              "      <th>goal</th>\n",
              "      <th>launched</th>\n",
              "      <th>pledged</th>\n",
              "      <th>state</th>\n",
              "      <th>backers</th>\n",
              "      <th>country</th>\n",
              "      <th>usd pledged</th>\n",
              "      <th>usd_pledged_real</th>\n",
              "      <th>usd_goal_real</th>\n",
              "    </tr>\n",
              "  </thead>\n",
              "  <tbody>\n",
              "    <tr>\n",
              "      <th>342920</th>\n",
              "      <td>816998285</td>\n",
              "      <td>\"...The Last shall be first...\" LODB Lifestyle...</td>\n",
              "      <td>Fashion</td>\n",
              "      <td>Fashion</td>\n",
              "      <td>USD</td>\n",
              "      <td>2014-02-09</td>\n",
              "      <td>6500.00</td>\n",
              "      <td>2013-12-19 21:51:50</td>\n",
              "      <td>0.00</td>\n",
              "      <td>canceled</td>\n",
              "      <td>0</td>\n",
              "      <td>US</td>\n",
              "      <td>0.00</td>\n",
              "      <td>0.00</td>\n",
              "      <td>6500.00</td>\n",
              "    </tr>\n",
              "    <tr>\n",
              "      <th>342692</th>\n",
              "      <td>815783250</td>\n",
              "      <td>\"...The Last shall be first...\" LODB Lifestyle...</td>\n",
              "      <td>Fashion</td>\n",
              "      <td>Fashion</td>\n",
              "      <td>USD</td>\n",
              "      <td>2014-03-01</td>\n",
              "      <td>6500.00</td>\n",
              "      <td>2014-01-03 20:39:16</td>\n",
              "      <td>37.00</td>\n",
              "      <td>failed</td>\n",
              "      <td>3</td>\n",
              "      <td>US</td>\n",
              "      <td>37.00</td>\n",
              "      <td>37.00</td>\n",
              "      <td>6500.00</td>\n",
              "    </tr>\n",
              "    <tr>\n",
              "      <th>2024</th>\n",
              "      <td>1010584633</td>\n",
              "      <td>\"A Fresh Start\"</td>\n",
              "      <td>Shorts</td>\n",
              "      <td>Film &amp; Video</td>\n",
              "      <td>USD</td>\n",
              "      <td>2011-09-25</td>\n",
              "      <td>3000.00</td>\n",
              "      <td>2011-08-28 21:27:52</td>\n",
              "      <td>3000.00</td>\n",
              "      <td>successful</td>\n",
              "      <td>24</td>\n",
              "      <td>US</td>\n",
              "      <td>3000.00</td>\n",
              "      <td>3000.00</td>\n",
              "      <td>3000.00</td>\n",
              "    </tr>\n",
              "    <tr>\n",
              "      <th>322671</th>\n",
              "      <td>713417995</td>\n",
              "      <td>\"A Fresh Start\"</td>\n",
              "      <td>Documentary</td>\n",
              "      <td>Film &amp; Video</td>\n",
              "      <td>USD</td>\n",
              "      <td>2013-03-27</td>\n",
              "      <td>5000.00</td>\n",
              "      <td>2013-01-26 03:51:47</td>\n",
              "      <td>1417.00</td>\n",
              "      <td>failed</td>\n",
              "      <td>26</td>\n",
              "      <td>US</td>\n",
              "      <td>1417.00</td>\n",
              "      <td>1417.00</td>\n",
              "      <td>5000.00</td>\n",
              "    </tr>\n",
              "    <tr>\n",
              "      <th>173036</th>\n",
              "      <td>1880084695</td>\n",
              "      <td>\"American Sports Stories\" - An Athletic Quest</td>\n",
              "      <td>Shorts</td>\n",
              "      <td>Film &amp; Video</td>\n",
              "      <td>USD</td>\n",
              "      <td>2015-08-26</td>\n",
              "      <td>100000.00</td>\n",
              "      <td>2015-06-27 02:02:00</td>\n",
              "      <td>100.00</td>\n",
              "      <td>failed</td>\n",
              "      <td>1</td>\n",
              "      <td>US</td>\n",
              "      <td>100.00</td>\n",
              "      <td>100.00</td>\n",
              "      <td>100000.00</td>\n",
              "    </tr>\n",
              "    <tr>\n",
              "      <th>...</th>\n",
              "      <td>...</td>\n",
              "      <td>...</td>\n",
              "      <td>...</td>\n",
              "      <td>...</td>\n",
              "      <td>...</td>\n",
              "      <td>...</td>\n",
              "      <td>...</td>\n",
              "      <td>...</td>\n",
              "      <td>...</td>\n",
              "      <td>...</td>\n",
              "      <td>...</td>\n",
              "      <td>...</td>\n",
              "      <td>...</td>\n",
              "      <td>...</td>\n",
              "      <td>...</td>\n",
              "    </tr>\n",
              "    <tr>\n",
              "      <th>247646</th>\n",
              "      <td>329580179</td>\n",
              "      <td>xxx (Canceled)</td>\n",
              "      <td>Art</td>\n",
              "      <td>Art</td>\n",
              "      <td>USD</td>\n",
              "      <td>2011-09-03</td>\n",
              "      <td>10000.00</td>\n",
              "      <td>2011-06-05 04:54:37</td>\n",
              "      <td>1151.00</td>\n",
              "      <td>canceled</td>\n",
              "      <td>18</td>\n",
              "      <td>US</td>\n",
              "      <td>1151.00</td>\n",
              "      <td>1151.00</td>\n",
              "      <td>10000.00</td>\n",
              "    </tr>\n",
              "    <tr>\n",
              "      <th>166851</th>\n",
              "      <td>1848699072</td>\n",
              "      <td>NaN</td>\n",
              "      <td>Narrative Film</td>\n",
              "      <td>Film &amp; Video</td>\n",
              "      <td>USD</td>\n",
              "      <td>2012-02-29</td>\n",
              "      <td>200000.00</td>\n",
              "      <td>2012-01-01 12:35:31</td>\n",
              "      <td>100.00</td>\n",
              "      <td>failed</td>\n",
              "      <td>1</td>\n",
              "      <td>US</td>\n",
              "      <td>100.00</td>\n",
              "      <td>100.00</td>\n",
              "      <td>200000.00</td>\n",
              "    </tr>\n",
              "    <tr>\n",
              "      <th>307234</th>\n",
              "      <td>634871725</td>\n",
              "      <td>NaN</td>\n",
              "      <td>Video Games</td>\n",
              "      <td>Games</td>\n",
              "      <td>GBP</td>\n",
              "      <td>2013-01-06</td>\n",
              "      <td>2000.00</td>\n",
              "      <td>2012-12-19 23:57:48</td>\n",
              "      <td>196.00</td>\n",
              "      <td>failed</td>\n",
              "      <td>12</td>\n",
              "      <td>GB</td>\n",
              "      <td>317.73</td>\n",
              "      <td>316.05</td>\n",
              "      <td>3224.97</td>\n",
              "    </tr>\n",
              "    <tr>\n",
              "      <th>309991</th>\n",
              "      <td>648853978</td>\n",
              "      <td>NaN</td>\n",
              "      <td>Product Design</td>\n",
              "      <td>Design</td>\n",
              "      <td>USD</td>\n",
              "      <td>2016-07-18</td>\n",
              "      <td>2500.00</td>\n",
              "      <td>2016-06-18 05:01:47</td>\n",
              "      <td>0.00</td>\n",
              "      <td>suspended</td>\n",
              "      <td>0</td>\n",
              "      <td>US</td>\n",
              "      <td>0.00</td>\n",
              "      <td>0.00</td>\n",
              "      <td>2500.00</td>\n",
              "    </tr>\n",
              "    <tr>\n",
              "      <th>338931</th>\n",
              "      <td>796533179</td>\n",
              "      <td>NaN</td>\n",
              "      <td>Painting</td>\n",
              "      <td>Art</td>\n",
              "      <td>USD</td>\n",
              "      <td>2011-12-05</td>\n",
              "      <td>35000.00</td>\n",
              "      <td>2011-11-06 23:55:55</td>\n",
              "      <td>220.00</td>\n",
              "      <td>failed</td>\n",
              "      <td>5</td>\n",
              "      <td>US</td>\n",
              "      <td>220.00</td>\n",
              "      <td>220.00</td>\n",
              "      <td>35000.00</td>\n",
              "    </tr>\n",
              "  </tbody>\n",
              "</table>\n",
              "<p>5125 rows × 15 columns</p>\n",
              "</div>"
            ],
            "text/plain": [
              "                ID  ... usd_goal_real\n",
              "342920   816998285  ...       6500.00\n",
              "342692   815783250  ...       6500.00\n",
              "2024    1010584633  ...       3000.00\n",
              "322671   713417995  ...       5000.00\n",
              "173036  1880084695  ...     100000.00\n",
              "...            ...  ...           ...\n",
              "247646   329580179  ...      10000.00\n",
              "166851  1848699072  ...     200000.00\n",
              "307234   634871725  ...       3224.97\n",
              "309991   648853978  ...       2500.00\n",
              "338931   796533179  ...      35000.00\n",
              "\n",
              "[5125 rows x 15 columns]"
            ]
          },
          "metadata": {
            "tags": []
          },
          "execution_count": 57
        }
      ]
    },
    {
      "cell_type": "markdown",
      "metadata": {
        "id": "mlyo0fIO7EzA",
        "colab_type": "text"
      },
      "source": [
        "#### Ejercicio 2:\n",
        "\n",
        "Verificar que los proyectos que tienen nombres duplicados también tienen el hash de nombre duplicado"
      ]
    },
    {
      "cell_type": "code",
      "metadata": {
        "id": "uNyRF3rh1zoi",
        "colab_type": "code",
        "colab": {}
      },
      "source": [
        "def hashit(val):\n",
        "    if isinstance(val, float): \n",
        "        return str(val)\n",
        "    return md5(val.encode('utf-8')).hexdigest()"
      ],
      "execution_count": 58,
      "outputs": []
    },
    {
      "cell_type": "code",
      "metadata": {
        "id": "95Yglyx67HKV",
        "colab_type": "code",
        "colab": {
          "base_uri": "https://localhost:8080/",
          "height": 424
        },
        "outputId": "6aa8c1c4-2a78-44d0-b1cd-37a1dc45c75b"
      },
      "source": [
        "# a simple vista parecen coincidir\n",
        "\n",
        "ks_2018_duplicates['md5'] = ks_2018_duplicates.name.apply(hashit)\n",
        "ks_2018_duplicates_md5 = ks_2018_duplicates[['name', 'md5']]\n",
        "ks_2018_duplicates_md5"
      ],
      "execution_count": 59,
      "outputs": [
        {
          "output_type": "execute_result",
          "data": {
            "text/html": [
              "<div>\n",
              "<style scoped>\n",
              "    .dataframe tbody tr th:only-of-type {\n",
              "        vertical-align: middle;\n",
              "    }\n",
              "\n",
              "    .dataframe tbody tr th {\n",
              "        vertical-align: top;\n",
              "    }\n",
              "\n",
              "    .dataframe thead th {\n",
              "        text-align: right;\n",
              "    }\n",
              "</style>\n",
              "<table border=\"1\" class=\"dataframe\">\n",
              "  <thead>\n",
              "    <tr style=\"text-align: right;\">\n",
              "      <th></th>\n",
              "      <th>name</th>\n",
              "      <th>md5</th>\n",
              "    </tr>\n",
              "  </thead>\n",
              "  <tbody>\n",
              "    <tr>\n",
              "      <th>342920</th>\n",
              "      <td>\"...The Last shall be first...\" LODB Lifestyle...</td>\n",
              "      <td>0c7a251ffe4c7834cbc4b04906952ff1</td>\n",
              "    </tr>\n",
              "    <tr>\n",
              "      <th>342692</th>\n",
              "      <td>\"...The Last shall be first...\" LODB Lifestyle...</td>\n",
              "      <td>0c7a251ffe4c7834cbc4b04906952ff1</td>\n",
              "    </tr>\n",
              "    <tr>\n",
              "      <th>2024</th>\n",
              "      <td>\"A Fresh Start\"</td>\n",
              "      <td>67554ab4203d95f2f2f05365f768206e</td>\n",
              "    </tr>\n",
              "    <tr>\n",
              "      <th>322671</th>\n",
              "      <td>\"A Fresh Start\"</td>\n",
              "      <td>67554ab4203d95f2f2f05365f768206e</td>\n",
              "    </tr>\n",
              "    <tr>\n",
              "      <th>173036</th>\n",
              "      <td>\"American Sports Stories\" - An Athletic Quest</td>\n",
              "      <td>19a82bc4c5961834282575d07d9b5f7c</td>\n",
              "    </tr>\n",
              "    <tr>\n",
              "      <th>...</th>\n",
              "      <td>...</td>\n",
              "      <td>...</td>\n",
              "    </tr>\n",
              "    <tr>\n",
              "      <th>247646</th>\n",
              "      <td>xxx (Canceled)</td>\n",
              "      <td>930857c212f21166427b23d4a7fe52a3</td>\n",
              "    </tr>\n",
              "    <tr>\n",
              "      <th>166851</th>\n",
              "      <td>NaN</td>\n",
              "      <td>nan</td>\n",
              "    </tr>\n",
              "    <tr>\n",
              "      <th>307234</th>\n",
              "      <td>NaN</td>\n",
              "      <td>nan</td>\n",
              "    </tr>\n",
              "    <tr>\n",
              "      <th>309991</th>\n",
              "      <td>NaN</td>\n",
              "      <td>nan</td>\n",
              "    </tr>\n",
              "    <tr>\n",
              "      <th>338931</th>\n",
              "      <td>NaN</td>\n",
              "      <td>nan</td>\n",
              "    </tr>\n",
              "  </tbody>\n",
              "</table>\n",
              "<p>5125 rows × 2 columns</p>\n",
              "</div>"
            ],
            "text/plain": [
              "                                                     name                               md5\n",
              "342920  \"...The Last shall be first...\" LODB Lifestyle...  0c7a251ffe4c7834cbc4b04906952ff1\n",
              "342692  \"...The Last shall be first...\" LODB Lifestyle...  0c7a251ffe4c7834cbc4b04906952ff1\n",
              "2024                                      \"A Fresh Start\"  67554ab4203d95f2f2f05365f768206e\n",
              "322671                                    \"A Fresh Start\"  67554ab4203d95f2f2f05365f768206e\n",
              "173036      \"American Sports Stories\" - An Athletic Quest  19a82bc4c5961834282575d07d9b5f7c\n",
              "...                                                   ...                               ...\n",
              "247646                                     xxx (Canceled)  930857c212f21166427b23d4a7fe52a3\n",
              "166851                                                NaN                               nan\n",
              "307234                                                NaN                               nan\n",
              "309991                                                NaN                               nan\n",
              "338931                                                NaN                               nan\n",
              "\n",
              "[5125 rows x 2 columns]"
            ]
          },
          "metadata": {
            "tags": []
          },
          "execution_count": 59
        }
      ]
    },
    {
      "cell_type": "code",
      "metadata": {
        "id": "gG6ZGkIENcrm",
        "colab_type": "code",
        "colab": {
          "base_uri": "https://localhost:8080/",
          "height": 81
        },
        "outputId": "6258ce7c-bf91-45e7-a38a-e7214d5a7d0d"
      },
      "source": [
        "# Verificamos contando los registros:\n",
        "\n",
        "# Eliminamos los NaN porque causan inconsistencia a los siguientes calculos\n",
        "\n",
        "ks_2018_duplicates_md5 = ks_2018_duplicates_md5.dropna()\n",
        "\n",
        "ds_counts_name = ks_2018_duplicates_md5.name.value_counts().rename_axis('unique_names').reset_index(name='counts_names')\n",
        "ds_counts_md5 = ks_2018_duplicates_md5.md5.value_counts().rename_axis('unique_md5').reset_index(name='counts_md5')\n",
        "ds_counts_name['counts_md5'] = ds_counts_md5['counts_md5']\n",
        "\n",
        "print('ds_counts_name filas: {}, ds_counts_md5 filas: {}'.format(ds_counts_name.shape[0], ds_counts_md5.shape[0]))\n",
        "print('ds_counts_name suma: {}, ds_counts_md5 suma: {}'.format(ds_counts_name.counts_names.sum(), ds_counts_name.counts_md5.sum()))\n",
        "\n",
        "if ds_counts_name.counts_names.sum() == ds_counts_name.counts_md5.sum():\n",
        "  display_markdown('**Los proyectos con nombres duplicados también tienen el hash de nombre duplicado**')\n",
        "\n",
        "# Si hubiera alguna inconsistencia esto la mostraria:\n",
        "ds_counts_name['result'] = np.where(ds_counts_name['counts_names'] == ds_counts_name['counts_md5'], 'True', 'False')"
      ],
      "execution_count": 60,
      "outputs": [
        {
          "output_type": "stream",
          "text": [
            "ds_counts_name filas: 2228, ds_counts_md5 filas: 2228\n",
            "ds_counts_name suma: 5121, ds_counts_md5 suma: 5121\n"
          ],
          "name": "stdout"
        },
        {
          "output_type": "display_data",
          "data": {
            "text/markdown": "**Los proyectos con nombres duplicados también tienen el hash de nombre duplicado**",
            "text/plain": [
              "<IPython.core.display.Markdown object>"
            ]
          },
          "metadata": {
            "tags": []
          }
        }
      ]
    },
    {
      "cell_type": "markdown",
      "metadata": {
        "id": "aq92Vpj8PELk",
        "colab_type": "text"
      },
      "source": [
        "#### Ejercicio 3\n",
        "\n",
        "Comparar la cantidad de nombres raros en kickstarter_2018 con la que obtenemos al cargar 'ks-projects-201801.csv' con encoding iso-8859-1."
      ]
    },
    {
      "cell_type": "code",
      "metadata": {
        "id": "CdpcHNT5PBV6",
        "colab_type": "code",
        "colab": {}
      },
      "source": [
        "def weird(val):\n",
        "    if isinstance(val, float): \n",
        "        return 0\n",
        "    return bad.sequence_weirdness(val)"
      ],
      "execution_count": 61,
      "outputs": []
    },
    {
      "cell_type": "code",
      "metadata": {
        "id": "Yjc02sUEP16A",
        "colab_type": "code",
        "colab": {}
      },
      "source": [
        "ks_2018_iso = pd.read_csv(BASE_DIR + \"/input/kickstarter-projects/ks-projects-201801.csv\", encoding='iso-8859-1')"
      ],
      "execution_count": 62,
      "outputs": []
    },
    {
      "cell_type": "code",
      "metadata": {
        "id": "xGMQJY10QOm6",
        "colab_type": "code",
        "colab": {}
      },
      "source": [
        "ks_2018['name_weirdness'] = ks_2018['name'].apply(weird)\n",
        "ks_2018_iso['name_weirdness'] = ks_2018_iso['name'].apply(weird)"
      ],
      "execution_count": 63,
      "outputs": []
    },
    {
      "cell_type": "code",
      "metadata": {
        "id": "vFSjL24UTG1Y",
        "colab_type": "code",
        "colab": {
          "base_uri": "https://localhost:8080/",
          "height": 93
        },
        "outputId": "c4e5981f-7268-4981-c3dc-b29a92a6cf8d"
      },
      "source": [
        "display_markdown('**Cantidad de nombre raros unicos para kickstarter 2018**')\n",
        "display_markdown('**Encoding UTF-8:** {}'.format(ks_2018[ks_2018.name_weirdness > 1].name_weirdness.count()))\n",
        "display_markdown('**Encoding ISO-8859-1:** {}'.format(ks_2018_iso[ks_2018_iso.name_weirdness > 1].name_weirdness.count()))"
      ],
      "execution_count": 64,
      "outputs": [
        {
          "output_type": "display_data",
          "data": {
            "text/markdown": "**Cantidad de nombre raros unicos para kickstarter 2018**",
            "text/plain": [
              "<IPython.core.display.Markdown object>"
            ]
          },
          "metadata": {
            "tags": []
          }
        },
        {
          "output_type": "display_data",
          "data": {
            "text/markdown": "**Encoding UTF-8:** 26",
            "text/plain": [
              "<IPython.core.display.Markdown object>"
            ]
          },
          "metadata": {
            "tags": []
          }
        },
        {
          "output_type": "display_data",
          "data": {
            "text/markdown": "**Encoding ISO-8859-1:** 7682",
            "text/plain": [
              "<IPython.core.display.Markdown object>"
            ]
          },
          "metadata": {
            "tags": []
          }
        }
      ]
    },
    {
      "cell_type": "markdown",
      "metadata": {
        "id": "RW6C9JwDTUhW",
        "colab_type": "text"
      },
      "source": [
        "#### Ejercicio 4\n",
        "\n",
        "Codificar `currency` con ambas estrategias"
      ]
    },
    {
      "cell_type": "code",
      "metadata": {
        "id": "hZN0unx1TZQA",
        "colab_type": "code",
        "colab": {
          "base_uri": "https://localhost:8080/",
          "height": 260
        },
        "outputId": "21aec6c3-34dd-44db-d99f-d48544eed6a4"
      },
      "source": [
        "column='currency'\n",
        "# Create a label (category) encoder object\n",
        "le = preprocessing.LabelEncoder()\n",
        "# Fit the encoder to the pandas column\n",
        "le.fit(ks_2018[column])\n",
        "# View encoder mapping\n",
        "dict(zip(le.classes_,le.transform(le.classes_)))"
      ],
      "execution_count": 65,
      "outputs": [
        {
          "output_type": "execute_result",
          "data": {
            "text/plain": [
              "{'AUD': 0,\n",
              " 'CAD': 1,\n",
              " 'CHF': 2,\n",
              " 'DKK': 3,\n",
              " 'EUR': 4,\n",
              " 'GBP': 5,\n",
              " 'HKD': 6,\n",
              " 'JPY': 7,\n",
              " 'MXN': 8,\n",
              " 'NOK': 9,\n",
              " 'NZD': 10,\n",
              " 'SEK': 11,\n",
              " 'SGD': 12,\n",
              " 'USD': 13}"
            ]
          },
          "metadata": {
            "tags": []
          },
          "execution_count": 65
        }
      ]
    },
    {
      "cell_type": "code",
      "metadata": {
        "id": "cl5Tr74kXrM1",
        "colab_type": "code",
        "colab": {
          "base_uri": "https://localhost:8080/",
          "height": 895
        },
        "outputId": "b7f814ed-97f3-4aa1-942a-358d0a6c207c"
      },
      "source": [
        "# Apply the fitted encoder to the pandas column\n",
        "ks_2018[column] = le.transform(ks_2018[column]) \n",
        "display(ks_2018)"
      ],
      "execution_count": 66,
      "outputs": [
        {
          "output_type": "display_data",
          "data": {
            "text/html": [
              "<div>\n",
              "<style scoped>\n",
              "    .dataframe tbody tr th:only-of-type {\n",
              "        vertical-align: middle;\n",
              "    }\n",
              "\n",
              "    .dataframe tbody tr th {\n",
              "        vertical-align: top;\n",
              "    }\n",
              "\n",
              "    .dataframe thead th {\n",
              "        text-align: right;\n",
              "    }\n",
              "</style>\n",
              "<table border=\"1\" class=\"dataframe\">\n",
              "  <thead>\n",
              "    <tr style=\"text-align: right;\">\n",
              "      <th></th>\n",
              "      <th>ID</th>\n",
              "      <th>name</th>\n",
              "      <th>category</th>\n",
              "      <th>main_category</th>\n",
              "      <th>currency</th>\n",
              "      <th>deadline</th>\n",
              "      <th>goal</th>\n",
              "      <th>launched</th>\n",
              "      <th>pledged</th>\n",
              "      <th>state</th>\n",
              "      <th>backers</th>\n",
              "      <th>country</th>\n",
              "      <th>usd pledged</th>\n",
              "      <th>usd_pledged_real</th>\n",
              "      <th>usd_goal_real</th>\n",
              "      <th>name_weirdness</th>\n",
              "    </tr>\n",
              "  </thead>\n",
              "  <tbody>\n",
              "    <tr>\n",
              "      <th>0</th>\n",
              "      <td>1000002330</td>\n",
              "      <td>The Songs of Adelaide &amp; Abullah</td>\n",
              "      <td>Poetry</td>\n",
              "      <td>Publishing</td>\n",
              "      <td>5</td>\n",
              "      <td>2015-10-09</td>\n",
              "      <td>1000.00</td>\n",
              "      <td>2015-08-11 12:12:28</td>\n",
              "      <td>0.00</td>\n",
              "      <td>failed</td>\n",
              "      <td>0</td>\n",
              "      <td>GB</td>\n",
              "      <td>0.00</td>\n",
              "      <td>0.00</td>\n",
              "      <td>1533.95</td>\n",
              "      <td>0</td>\n",
              "    </tr>\n",
              "    <tr>\n",
              "      <th>1</th>\n",
              "      <td>1000003930</td>\n",
              "      <td>Greeting From Earth: ZGAC Arts Capsule For ET</td>\n",
              "      <td>Narrative Film</td>\n",
              "      <td>Film &amp; Video</td>\n",
              "      <td>13</td>\n",
              "      <td>2017-11-01</td>\n",
              "      <td>30000.00</td>\n",
              "      <td>2017-09-02 04:43:57</td>\n",
              "      <td>2421.00</td>\n",
              "      <td>failed</td>\n",
              "      <td>15</td>\n",
              "      <td>US</td>\n",
              "      <td>100.00</td>\n",
              "      <td>2421.00</td>\n",
              "      <td>30000.00</td>\n",
              "      <td>0</td>\n",
              "    </tr>\n",
              "    <tr>\n",
              "      <th>2</th>\n",
              "      <td>1000004038</td>\n",
              "      <td>Where is Hank?</td>\n",
              "      <td>Narrative Film</td>\n",
              "      <td>Film &amp; Video</td>\n",
              "      <td>13</td>\n",
              "      <td>2013-02-26</td>\n",
              "      <td>45000.00</td>\n",
              "      <td>2013-01-12 00:20:50</td>\n",
              "      <td>220.00</td>\n",
              "      <td>failed</td>\n",
              "      <td>3</td>\n",
              "      <td>US</td>\n",
              "      <td>220.00</td>\n",
              "      <td>220.00</td>\n",
              "      <td>45000.00</td>\n",
              "      <td>0</td>\n",
              "    </tr>\n",
              "    <tr>\n",
              "      <th>3</th>\n",
              "      <td>1000007540</td>\n",
              "      <td>ToshiCapital Rekordz Needs Help to Complete Album</td>\n",
              "      <td>Music</td>\n",
              "      <td>Music</td>\n",
              "      <td>13</td>\n",
              "      <td>2012-04-16</td>\n",
              "      <td>5000.00</td>\n",
              "      <td>2012-03-17 03:24:11</td>\n",
              "      <td>1.00</td>\n",
              "      <td>failed</td>\n",
              "      <td>1</td>\n",
              "      <td>US</td>\n",
              "      <td>1.00</td>\n",
              "      <td>1.00</td>\n",
              "      <td>5000.00</td>\n",
              "      <td>0</td>\n",
              "    </tr>\n",
              "    <tr>\n",
              "      <th>4</th>\n",
              "      <td>1000011046</td>\n",
              "      <td>Community Film Project: The Art of Neighborhoo...</td>\n",
              "      <td>Film &amp; Video</td>\n",
              "      <td>Film &amp; Video</td>\n",
              "      <td>13</td>\n",
              "      <td>2015-08-29</td>\n",
              "      <td>19500.00</td>\n",
              "      <td>2015-07-04 08:35:03</td>\n",
              "      <td>1283.00</td>\n",
              "      <td>canceled</td>\n",
              "      <td>14</td>\n",
              "      <td>US</td>\n",
              "      <td>1283.00</td>\n",
              "      <td>1283.00</td>\n",
              "      <td>19500.00</td>\n",
              "      <td>0</td>\n",
              "    </tr>\n",
              "    <tr>\n",
              "      <th>...</th>\n",
              "      <td>...</td>\n",
              "      <td>...</td>\n",
              "      <td>...</td>\n",
              "      <td>...</td>\n",
              "      <td>...</td>\n",
              "      <td>...</td>\n",
              "      <td>...</td>\n",
              "      <td>...</td>\n",
              "      <td>...</td>\n",
              "      <td>...</td>\n",
              "      <td>...</td>\n",
              "      <td>...</td>\n",
              "      <td>...</td>\n",
              "      <td>...</td>\n",
              "      <td>...</td>\n",
              "      <td>...</td>\n",
              "    </tr>\n",
              "    <tr>\n",
              "      <th>378656</th>\n",
              "      <td>999976400</td>\n",
              "      <td>ChknTruk Nationwide Charity Drive 2014 (Canceled)</td>\n",
              "      <td>Documentary</td>\n",
              "      <td>Film &amp; Video</td>\n",
              "      <td>13</td>\n",
              "      <td>2014-10-17</td>\n",
              "      <td>50000.00</td>\n",
              "      <td>2014-09-17 02:35:30</td>\n",
              "      <td>25.00</td>\n",
              "      <td>canceled</td>\n",
              "      <td>1</td>\n",
              "      <td>US</td>\n",
              "      <td>25.00</td>\n",
              "      <td>25.00</td>\n",
              "      <td>50000.00</td>\n",
              "      <td>0</td>\n",
              "    </tr>\n",
              "    <tr>\n",
              "      <th>378657</th>\n",
              "      <td>999977640</td>\n",
              "      <td>The Tribe</td>\n",
              "      <td>Narrative Film</td>\n",
              "      <td>Film &amp; Video</td>\n",
              "      <td>13</td>\n",
              "      <td>2011-07-19</td>\n",
              "      <td>1500.00</td>\n",
              "      <td>2011-06-22 03:35:14</td>\n",
              "      <td>155.00</td>\n",
              "      <td>failed</td>\n",
              "      <td>5</td>\n",
              "      <td>US</td>\n",
              "      <td>155.00</td>\n",
              "      <td>155.00</td>\n",
              "      <td>1500.00</td>\n",
              "      <td>0</td>\n",
              "    </tr>\n",
              "    <tr>\n",
              "      <th>378658</th>\n",
              "      <td>999986353</td>\n",
              "      <td>Walls of Remedy- New lesbian Romantic Comedy f...</td>\n",
              "      <td>Narrative Film</td>\n",
              "      <td>Film &amp; Video</td>\n",
              "      <td>13</td>\n",
              "      <td>2010-08-16</td>\n",
              "      <td>15000.00</td>\n",
              "      <td>2010-07-01 19:40:30</td>\n",
              "      <td>20.00</td>\n",
              "      <td>failed</td>\n",
              "      <td>1</td>\n",
              "      <td>US</td>\n",
              "      <td>20.00</td>\n",
              "      <td>20.00</td>\n",
              "      <td>15000.00</td>\n",
              "      <td>0</td>\n",
              "    </tr>\n",
              "    <tr>\n",
              "      <th>378659</th>\n",
              "      <td>999987933</td>\n",
              "      <td>BioDefense Education Kit</td>\n",
              "      <td>Technology</td>\n",
              "      <td>Technology</td>\n",
              "      <td>13</td>\n",
              "      <td>2016-02-13</td>\n",
              "      <td>15000.00</td>\n",
              "      <td>2016-01-13 18:13:53</td>\n",
              "      <td>200.00</td>\n",
              "      <td>failed</td>\n",
              "      <td>6</td>\n",
              "      <td>US</td>\n",
              "      <td>200.00</td>\n",
              "      <td>200.00</td>\n",
              "      <td>15000.00</td>\n",
              "      <td>0</td>\n",
              "    </tr>\n",
              "    <tr>\n",
              "      <th>378660</th>\n",
              "      <td>999988282</td>\n",
              "      <td>Nou Renmen Ayiti!  We Love Haiti!</td>\n",
              "      <td>Performance Art</td>\n",
              "      <td>Art</td>\n",
              "      <td>13</td>\n",
              "      <td>2011-08-16</td>\n",
              "      <td>2000.00</td>\n",
              "      <td>2011-07-19 09:07:47</td>\n",
              "      <td>524.00</td>\n",
              "      <td>failed</td>\n",
              "      <td>17</td>\n",
              "      <td>US</td>\n",
              "      <td>524.00</td>\n",
              "      <td>524.00</td>\n",
              "      <td>2000.00</td>\n",
              "      <td>0</td>\n",
              "    </tr>\n",
              "  </tbody>\n",
              "</table>\n",
              "<p>378661 rows × 16 columns</p>\n",
              "</div>"
            ],
            "text/plain": [
              "                ID  ... name_weirdness\n",
              "0       1000002330  ...              0\n",
              "1       1000003930  ...              0\n",
              "2       1000004038  ...              0\n",
              "3       1000007540  ...              0\n",
              "4       1000011046  ...              0\n",
              "...            ...  ...            ...\n",
              "378656   999976400  ...              0\n",
              "378657   999977640  ...              0\n",
              "378658   999986353  ...              0\n",
              "378659   999987933  ...              0\n",
              "378660   999988282  ...              0\n",
              "\n",
              "[378661 rows x 16 columns]"
            ]
          },
          "metadata": {
            "tags": []
          }
        }
      ]
    },
    {
      "cell_type": "code",
      "metadata": {
        "id": "4UN0DmsyXwcW",
        "colab_type": "code",
        "colab": {
          "base_uri": "https://localhost:8080/",
          "height": 895
        },
        "outputId": "a7b07a58-716d-4492-ab49-62204fd46169"
      },
      "source": [
        "# Reversing encoding\n",
        "ks_2018[column] = le.inverse_transform(ks_2018[column]) \n",
        "ks_2018"
      ],
      "execution_count": 67,
      "outputs": [
        {
          "output_type": "execute_result",
          "data": {
            "text/html": [
              "<div>\n",
              "<style scoped>\n",
              "    .dataframe tbody tr th:only-of-type {\n",
              "        vertical-align: middle;\n",
              "    }\n",
              "\n",
              "    .dataframe tbody tr th {\n",
              "        vertical-align: top;\n",
              "    }\n",
              "\n",
              "    .dataframe thead th {\n",
              "        text-align: right;\n",
              "    }\n",
              "</style>\n",
              "<table border=\"1\" class=\"dataframe\">\n",
              "  <thead>\n",
              "    <tr style=\"text-align: right;\">\n",
              "      <th></th>\n",
              "      <th>ID</th>\n",
              "      <th>name</th>\n",
              "      <th>category</th>\n",
              "      <th>main_category</th>\n",
              "      <th>currency</th>\n",
              "      <th>deadline</th>\n",
              "      <th>goal</th>\n",
              "      <th>launched</th>\n",
              "      <th>pledged</th>\n",
              "      <th>state</th>\n",
              "      <th>backers</th>\n",
              "      <th>country</th>\n",
              "      <th>usd pledged</th>\n",
              "      <th>usd_pledged_real</th>\n",
              "      <th>usd_goal_real</th>\n",
              "      <th>name_weirdness</th>\n",
              "    </tr>\n",
              "  </thead>\n",
              "  <tbody>\n",
              "    <tr>\n",
              "      <th>0</th>\n",
              "      <td>1000002330</td>\n",
              "      <td>The Songs of Adelaide &amp; Abullah</td>\n",
              "      <td>Poetry</td>\n",
              "      <td>Publishing</td>\n",
              "      <td>GBP</td>\n",
              "      <td>2015-10-09</td>\n",
              "      <td>1000.00</td>\n",
              "      <td>2015-08-11 12:12:28</td>\n",
              "      <td>0.00</td>\n",
              "      <td>failed</td>\n",
              "      <td>0</td>\n",
              "      <td>GB</td>\n",
              "      <td>0.00</td>\n",
              "      <td>0.00</td>\n",
              "      <td>1533.95</td>\n",
              "      <td>0</td>\n",
              "    </tr>\n",
              "    <tr>\n",
              "      <th>1</th>\n",
              "      <td>1000003930</td>\n",
              "      <td>Greeting From Earth: ZGAC Arts Capsule For ET</td>\n",
              "      <td>Narrative Film</td>\n",
              "      <td>Film &amp; Video</td>\n",
              "      <td>USD</td>\n",
              "      <td>2017-11-01</td>\n",
              "      <td>30000.00</td>\n",
              "      <td>2017-09-02 04:43:57</td>\n",
              "      <td>2421.00</td>\n",
              "      <td>failed</td>\n",
              "      <td>15</td>\n",
              "      <td>US</td>\n",
              "      <td>100.00</td>\n",
              "      <td>2421.00</td>\n",
              "      <td>30000.00</td>\n",
              "      <td>0</td>\n",
              "    </tr>\n",
              "    <tr>\n",
              "      <th>2</th>\n",
              "      <td>1000004038</td>\n",
              "      <td>Where is Hank?</td>\n",
              "      <td>Narrative Film</td>\n",
              "      <td>Film &amp; Video</td>\n",
              "      <td>USD</td>\n",
              "      <td>2013-02-26</td>\n",
              "      <td>45000.00</td>\n",
              "      <td>2013-01-12 00:20:50</td>\n",
              "      <td>220.00</td>\n",
              "      <td>failed</td>\n",
              "      <td>3</td>\n",
              "      <td>US</td>\n",
              "      <td>220.00</td>\n",
              "      <td>220.00</td>\n",
              "      <td>45000.00</td>\n",
              "      <td>0</td>\n",
              "    </tr>\n",
              "    <tr>\n",
              "      <th>3</th>\n",
              "      <td>1000007540</td>\n",
              "      <td>ToshiCapital Rekordz Needs Help to Complete Album</td>\n",
              "      <td>Music</td>\n",
              "      <td>Music</td>\n",
              "      <td>USD</td>\n",
              "      <td>2012-04-16</td>\n",
              "      <td>5000.00</td>\n",
              "      <td>2012-03-17 03:24:11</td>\n",
              "      <td>1.00</td>\n",
              "      <td>failed</td>\n",
              "      <td>1</td>\n",
              "      <td>US</td>\n",
              "      <td>1.00</td>\n",
              "      <td>1.00</td>\n",
              "      <td>5000.00</td>\n",
              "      <td>0</td>\n",
              "    </tr>\n",
              "    <tr>\n",
              "      <th>4</th>\n",
              "      <td>1000011046</td>\n",
              "      <td>Community Film Project: The Art of Neighborhoo...</td>\n",
              "      <td>Film &amp; Video</td>\n",
              "      <td>Film &amp; Video</td>\n",
              "      <td>USD</td>\n",
              "      <td>2015-08-29</td>\n",
              "      <td>19500.00</td>\n",
              "      <td>2015-07-04 08:35:03</td>\n",
              "      <td>1283.00</td>\n",
              "      <td>canceled</td>\n",
              "      <td>14</td>\n",
              "      <td>US</td>\n",
              "      <td>1283.00</td>\n",
              "      <td>1283.00</td>\n",
              "      <td>19500.00</td>\n",
              "      <td>0</td>\n",
              "    </tr>\n",
              "    <tr>\n",
              "      <th>...</th>\n",
              "      <td>...</td>\n",
              "      <td>...</td>\n",
              "      <td>...</td>\n",
              "      <td>...</td>\n",
              "      <td>...</td>\n",
              "      <td>...</td>\n",
              "      <td>...</td>\n",
              "      <td>...</td>\n",
              "      <td>...</td>\n",
              "      <td>...</td>\n",
              "      <td>...</td>\n",
              "      <td>...</td>\n",
              "      <td>...</td>\n",
              "      <td>...</td>\n",
              "      <td>...</td>\n",
              "      <td>...</td>\n",
              "    </tr>\n",
              "    <tr>\n",
              "      <th>378656</th>\n",
              "      <td>999976400</td>\n",
              "      <td>ChknTruk Nationwide Charity Drive 2014 (Canceled)</td>\n",
              "      <td>Documentary</td>\n",
              "      <td>Film &amp; Video</td>\n",
              "      <td>USD</td>\n",
              "      <td>2014-10-17</td>\n",
              "      <td>50000.00</td>\n",
              "      <td>2014-09-17 02:35:30</td>\n",
              "      <td>25.00</td>\n",
              "      <td>canceled</td>\n",
              "      <td>1</td>\n",
              "      <td>US</td>\n",
              "      <td>25.00</td>\n",
              "      <td>25.00</td>\n",
              "      <td>50000.00</td>\n",
              "      <td>0</td>\n",
              "    </tr>\n",
              "    <tr>\n",
              "      <th>378657</th>\n",
              "      <td>999977640</td>\n",
              "      <td>The Tribe</td>\n",
              "      <td>Narrative Film</td>\n",
              "      <td>Film &amp; Video</td>\n",
              "      <td>USD</td>\n",
              "      <td>2011-07-19</td>\n",
              "      <td>1500.00</td>\n",
              "      <td>2011-06-22 03:35:14</td>\n",
              "      <td>155.00</td>\n",
              "      <td>failed</td>\n",
              "      <td>5</td>\n",
              "      <td>US</td>\n",
              "      <td>155.00</td>\n",
              "      <td>155.00</td>\n",
              "      <td>1500.00</td>\n",
              "      <td>0</td>\n",
              "    </tr>\n",
              "    <tr>\n",
              "      <th>378658</th>\n",
              "      <td>999986353</td>\n",
              "      <td>Walls of Remedy- New lesbian Romantic Comedy f...</td>\n",
              "      <td>Narrative Film</td>\n",
              "      <td>Film &amp; Video</td>\n",
              "      <td>USD</td>\n",
              "      <td>2010-08-16</td>\n",
              "      <td>15000.00</td>\n",
              "      <td>2010-07-01 19:40:30</td>\n",
              "      <td>20.00</td>\n",
              "      <td>failed</td>\n",
              "      <td>1</td>\n",
              "      <td>US</td>\n",
              "      <td>20.00</td>\n",
              "      <td>20.00</td>\n",
              "      <td>15000.00</td>\n",
              "      <td>0</td>\n",
              "    </tr>\n",
              "    <tr>\n",
              "      <th>378659</th>\n",
              "      <td>999987933</td>\n",
              "      <td>BioDefense Education Kit</td>\n",
              "      <td>Technology</td>\n",
              "      <td>Technology</td>\n",
              "      <td>USD</td>\n",
              "      <td>2016-02-13</td>\n",
              "      <td>15000.00</td>\n",
              "      <td>2016-01-13 18:13:53</td>\n",
              "      <td>200.00</td>\n",
              "      <td>failed</td>\n",
              "      <td>6</td>\n",
              "      <td>US</td>\n",
              "      <td>200.00</td>\n",
              "      <td>200.00</td>\n",
              "      <td>15000.00</td>\n",
              "      <td>0</td>\n",
              "    </tr>\n",
              "    <tr>\n",
              "      <th>378660</th>\n",
              "      <td>999988282</td>\n",
              "      <td>Nou Renmen Ayiti!  We Love Haiti!</td>\n",
              "      <td>Performance Art</td>\n",
              "      <td>Art</td>\n",
              "      <td>USD</td>\n",
              "      <td>2011-08-16</td>\n",
              "      <td>2000.00</td>\n",
              "      <td>2011-07-19 09:07:47</td>\n",
              "      <td>524.00</td>\n",
              "      <td>failed</td>\n",
              "      <td>17</td>\n",
              "      <td>US</td>\n",
              "      <td>524.00</td>\n",
              "      <td>524.00</td>\n",
              "      <td>2000.00</td>\n",
              "      <td>0</td>\n",
              "    </tr>\n",
              "  </tbody>\n",
              "</table>\n",
              "<p>378661 rows × 16 columns</p>\n",
              "</div>"
            ],
            "text/plain": [
              "                ID  ... name_weirdness\n",
              "0       1000002330  ...              0\n",
              "1       1000003930  ...              0\n",
              "2       1000004038  ...              0\n",
              "3       1000007540  ...              0\n",
              "4       1000011046  ...              0\n",
              "...            ...  ...            ...\n",
              "378656   999976400  ...              0\n",
              "378657   999977640  ...              0\n",
              "378658   999986353  ...              0\n",
              "378659   999987933  ...              0\n",
              "378660   999988282  ...              0\n",
              "\n",
              "[378661 rows x 16 columns]"
            ]
          },
          "metadata": {
            "tags": []
          },
          "execution_count": 67
        }
      ]
    },
    {
      "cell_type": "code",
      "metadata": {
        "id": "q7UMrdRyX5k2",
        "colab_type": "code",
        "colab": {
          "base_uri": "https://localhost:8080/",
          "height": 895
        },
        "outputId": "8cccde62-68f2-4238-9f04-e9b2561583b3"
      },
      "source": [
        "other_column = 'currency'\n",
        "\n",
        "lb = LabelBinarizer()\n",
        "\n",
        "lb_results = lb.fit_transform(ks_2018[other_column])\n",
        "currency_df = pd.DataFrame(lb_results, columns=((other_column + '_') + pd.Series(lb.classes_)))\n",
        "result = pd.concat([ks_2018, currency_df], axis=1, sort=False)\n",
        "result\n"
      ],
      "execution_count": 68,
      "outputs": [
        {
          "output_type": "execute_result",
          "data": {
            "text/html": [
              "<div>\n",
              "<style scoped>\n",
              "    .dataframe tbody tr th:only-of-type {\n",
              "        vertical-align: middle;\n",
              "    }\n",
              "\n",
              "    .dataframe tbody tr th {\n",
              "        vertical-align: top;\n",
              "    }\n",
              "\n",
              "    .dataframe thead th {\n",
              "        text-align: right;\n",
              "    }\n",
              "</style>\n",
              "<table border=\"1\" class=\"dataframe\">\n",
              "  <thead>\n",
              "    <tr style=\"text-align: right;\">\n",
              "      <th></th>\n",
              "      <th>ID</th>\n",
              "      <th>name</th>\n",
              "      <th>category</th>\n",
              "      <th>main_category</th>\n",
              "      <th>currency</th>\n",
              "      <th>deadline</th>\n",
              "      <th>goal</th>\n",
              "      <th>launched</th>\n",
              "      <th>pledged</th>\n",
              "      <th>state</th>\n",
              "      <th>backers</th>\n",
              "      <th>country</th>\n",
              "      <th>usd pledged</th>\n",
              "      <th>usd_pledged_real</th>\n",
              "      <th>usd_goal_real</th>\n",
              "      <th>name_weirdness</th>\n",
              "      <th>currency_AUD</th>\n",
              "      <th>currency_CAD</th>\n",
              "      <th>currency_CHF</th>\n",
              "      <th>currency_DKK</th>\n",
              "      <th>currency_EUR</th>\n",
              "      <th>currency_GBP</th>\n",
              "      <th>currency_HKD</th>\n",
              "      <th>currency_JPY</th>\n",
              "      <th>currency_MXN</th>\n",
              "      <th>currency_NOK</th>\n",
              "      <th>currency_NZD</th>\n",
              "      <th>currency_SEK</th>\n",
              "      <th>currency_SGD</th>\n",
              "      <th>currency_USD</th>\n",
              "    </tr>\n",
              "  </thead>\n",
              "  <tbody>\n",
              "    <tr>\n",
              "      <th>0</th>\n",
              "      <td>1000002330</td>\n",
              "      <td>The Songs of Adelaide &amp; Abullah</td>\n",
              "      <td>Poetry</td>\n",
              "      <td>Publishing</td>\n",
              "      <td>GBP</td>\n",
              "      <td>2015-10-09</td>\n",
              "      <td>1000.00</td>\n",
              "      <td>2015-08-11 12:12:28</td>\n",
              "      <td>0.00</td>\n",
              "      <td>failed</td>\n",
              "      <td>0</td>\n",
              "      <td>GB</td>\n",
              "      <td>0.00</td>\n",
              "      <td>0.00</td>\n",
              "      <td>1533.95</td>\n",
              "      <td>0</td>\n",
              "      <td>0</td>\n",
              "      <td>0</td>\n",
              "      <td>0</td>\n",
              "      <td>0</td>\n",
              "      <td>0</td>\n",
              "      <td>1</td>\n",
              "      <td>0</td>\n",
              "      <td>0</td>\n",
              "      <td>0</td>\n",
              "      <td>0</td>\n",
              "      <td>0</td>\n",
              "      <td>0</td>\n",
              "      <td>0</td>\n",
              "      <td>0</td>\n",
              "    </tr>\n",
              "    <tr>\n",
              "      <th>1</th>\n",
              "      <td>1000003930</td>\n",
              "      <td>Greeting From Earth: ZGAC Arts Capsule For ET</td>\n",
              "      <td>Narrative Film</td>\n",
              "      <td>Film &amp; Video</td>\n",
              "      <td>USD</td>\n",
              "      <td>2017-11-01</td>\n",
              "      <td>30000.00</td>\n",
              "      <td>2017-09-02 04:43:57</td>\n",
              "      <td>2421.00</td>\n",
              "      <td>failed</td>\n",
              "      <td>15</td>\n",
              "      <td>US</td>\n",
              "      <td>100.00</td>\n",
              "      <td>2421.00</td>\n",
              "      <td>30000.00</td>\n",
              "      <td>0</td>\n",
              "      <td>0</td>\n",
              "      <td>0</td>\n",
              "      <td>0</td>\n",
              "      <td>0</td>\n",
              "      <td>0</td>\n",
              "      <td>0</td>\n",
              "      <td>0</td>\n",
              "      <td>0</td>\n",
              "      <td>0</td>\n",
              "      <td>0</td>\n",
              "      <td>0</td>\n",
              "      <td>0</td>\n",
              "      <td>0</td>\n",
              "      <td>1</td>\n",
              "    </tr>\n",
              "    <tr>\n",
              "      <th>2</th>\n",
              "      <td>1000004038</td>\n",
              "      <td>Where is Hank?</td>\n",
              "      <td>Narrative Film</td>\n",
              "      <td>Film &amp; Video</td>\n",
              "      <td>USD</td>\n",
              "      <td>2013-02-26</td>\n",
              "      <td>45000.00</td>\n",
              "      <td>2013-01-12 00:20:50</td>\n",
              "      <td>220.00</td>\n",
              "      <td>failed</td>\n",
              "      <td>3</td>\n",
              "      <td>US</td>\n",
              "      <td>220.00</td>\n",
              "      <td>220.00</td>\n",
              "      <td>45000.00</td>\n",
              "      <td>0</td>\n",
              "      <td>0</td>\n",
              "      <td>0</td>\n",
              "      <td>0</td>\n",
              "      <td>0</td>\n",
              "      <td>0</td>\n",
              "      <td>0</td>\n",
              "      <td>0</td>\n",
              "      <td>0</td>\n",
              "      <td>0</td>\n",
              "      <td>0</td>\n",
              "      <td>0</td>\n",
              "      <td>0</td>\n",
              "      <td>0</td>\n",
              "      <td>1</td>\n",
              "    </tr>\n",
              "    <tr>\n",
              "      <th>3</th>\n",
              "      <td>1000007540</td>\n",
              "      <td>ToshiCapital Rekordz Needs Help to Complete Album</td>\n",
              "      <td>Music</td>\n",
              "      <td>Music</td>\n",
              "      <td>USD</td>\n",
              "      <td>2012-04-16</td>\n",
              "      <td>5000.00</td>\n",
              "      <td>2012-03-17 03:24:11</td>\n",
              "      <td>1.00</td>\n",
              "      <td>failed</td>\n",
              "      <td>1</td>\n",
              "      <td>US</td>\n",
              "      <td>1.00</td>\n",
              "      <td>1.00</td>\n",
              "      <td>5000.00</td>\n",
              "      <td>0</td>\n",
              "      <td>0</td>\n",
              "      <td>0</td>\n",
              "      <td>0</td>\n",
              "      <td>0</td>\n",
              "      <td>0</td>\n",
              "      <td>0</td>\n",
              "      <td>0</td>\n",
              "      <td>0</td>\n",
              "      <td>0</td>\n",
              "      <td>0</td>\n",
              "      <td>0</td>\n",
              "      <td>0</td>\n",
              "      <td>0</td>\n",
              "      <td>1</td>\n",
              "    </tr>\n",
              "    <tr>\n",
              "      <th>4</th>\n",
              "      <td>1000011046</td>\n",
              "      <td>Community Film Project: The Art of Neighborhoo...</td>\n",
              "      <td>Film &amp; Video</td>\n",
              "      <td>Film &amp; Video</td>\n",
              "      <td>USD</td>\n",
              "      <td>2015-08-29</td>\n",
              "      <td>19500.00</td>\n",
              "      <td>2015-07-04 08:35:03</td>\n",
              "      <td>1283.00</td>\n",
              "      <td>canceled</td>\n",
              "      <td>14</td>\n",
              "      <td>US</td>\n",
              "      <td>1283.00</td>\n",
              "      <td>1283.00</td>\n",
              "      <td>19500.00</td>\n",
              "      <td>0</td>\n",
              "      <td>0</td>\n",
              "      <td>0</td>\n",
              "      <td>0</td>\n",
              "      <td>0</td>\n",
              "      <td>0</td>\n",
              "      <td>0</td>\n",
              "      <td>0</td>\n",
              "      <td>0</td>\n",
              "      <td>0</td>\n",
              "      <td>0</td>\n",
              "      <td>0</td>\n",
              "      <td>0</td>\n",
              "      <td>0</td>\n",
              "      <td>1</td>\n",
              "    </tr>\n",
              "    <tr>\n",
              "      <th>...</th>\n",
              "      <td>...</td>\n",
              "      <td>...</td>\n",
              "      <td>...</td>\n",
              "      <td>...</td>\n",
              "      <td>...</td>\n",
              "      <td>...</td>\n",
              "      <td>...</td>\n",
              "      <td>...</td>\n",
              "      <td>...</td>\n",
              "      <td>...</td>\n",
              "      <td>...</td>\n",
              "      <td>...</td>\n",
              "      <td>...</td>\n",
              "      <td>...</td>\n",
              "      <td>...</td>\n",
              "      <td>...</td>\n",
              "      <td>...</td>\n",
              "      <td>...</td>\n",
              "      <td>...</td>\n",
              "      <td>...</td>\n",
              "      <td>...</td>\n",
              "      <td>...</td>\n",
              "      <td>...</td>\n",
              "      <td>...</td>\n",
              "      <td>...</td>\n",
              "      <td>...</td>\n",
              "      <td>...</td>\n",
              "      <td>...</td>\n",
              "      <td>...</td>\n",
              "      <td>...</td>\n",
              "    </tr>\n",
              "    <tr>\n",
              "      <th>378656</th>\n",
              "      <td>999976400</td>\n",
              "      <td>ChknTruk Nationwide Charity Drive 2014 (Canceled)</td>\n",
              "      <td>Documentary</td>\n",
              "      <td>Film &amp; Video</td>\n",
              "      <td>USD</td>\n",
              "      <td>2014-10-17</td>\n",
              "      <td>50000.00</td>\n",
              "      <td>2014-09-17 02:35:30</td>\n",
              "      <td>25.00</td>\n",
              "      <td>canceled</td>\n",
              "      <td>1</td>\n",
              "      <td>US</td>\n",
              "      <td>25.00</td>\n",
              "      <td>25.00</td>\n",
              "      <td>50000.00</td>\n",
              "      <td>0</td>\n",
              "      <td>0</td>\n",
              "      <td>0</td>\n",
              "      <td>0</td>\n",
              "      <td>0</td>\n",
              "      <td>0</td>\n",
              "      <td>0</td>\n",
              "      <td>0</td>\n",
              "      <td>0</td>\n",
              "      <td>0</td>\n",
              "      <td>0</td>\n",
              "      <td>0</td>\n",
              "      <td>0</td>\n",
              "      <td>0</td>\n",
              "      <td>1</td>\n",
              "    </tr>\n",
              "    <tr>\n",
              "      <th>378657</th>\n",
              "      <td>999977640</td>\n",
              "      <td>The Tribe</td>\n",
              "      <td>Narrative Film</td>\n",
              "      <td>Film &amp; Video</td>\n",
              "      <td>USD</td>\n",
              "      <td>2011-07-19</td>\n",
              "      <td>1500.00</td>\n",
              "      <td>2011-06-22 03:35:14</td>\n",
              "      <td>155.00</td>\n",
              "      <td>failed</td>\n",
              "      <td>5</td>\n",
              "      <td>US</td>\n",
              "      <td>155.00</td>\n",
              "      <td>155.00</td>\n",
              "      <td>1500.00</td>\n",
              "      <td>0</td>\n",
              "      <td>0</td>\n",
              "      <td>0</td>\n",
              "      <td>0</td>\n",
              "      <td>0</td>\n",
              "      <td>0</td>\n",
              "      <td>0</td>\n",
              "      <td>0</td>\n",
              "      <td>0</td>\n",
              "      <td>0</td>\n",
              "      <td>0</td>\n",
              "      <td>0</td>\n",
              "      <td>0</td>\n",
              "      <td>0</td>\n",
              "      <td>1</td>\n",
              "    </tr>\n",
              "    <tr>\n",
              "      <th>378658</th>\n",
              "      <td>999986353</td>\n",
              "      <td>Walls of Remedy- New lesbian Romantic Comedy f...</td>\n",
              "      <td>Narrative Film</td>\n",
              "      <td>Film &amp; Video</td>\n",
              "      <td>USD</td>\n",
              "      <td>2010-08-16</td>\n",
              "      <td>15000.00</td>\n",
              "      <td>2010-07-01 19:40:30</td>\n",
              "      <td>20.00</td>\n",
              "      <td>failed</td>\n",
              "      <td>1</td>\n",
              "      <td>US</td>\n",
              "      <td>20.00</td>\n",
              "      <td>20.00</td>\n",
              "      <td>15000.00</td>\n",
              "      <td>0</td>\n",
              "      <td>0</td>\n",
              "      <td>0</td>\n",
              "      <td>0</td>\n",
              "      <td>0</td>\n",
              "      <td>0</td>\n",
              "      <td>0</td>\n",
              "      <td>0</td>\n",
              "      <td>0</td>\n",
              "      <td>0</td>\n",
              "      <td>0</td>\n",
              "      <td>0</td>\n",
              "      <td>0</td>\n",
              "      <td>0</td>\n",
              "      <td>1</td>\n",
              "    </tr>\n",
              "    <tr>\n",
              "      <th>378659</th>\n",
              "      <td>999987933</td>\n",
              "      <td>BioDefense Education Kit</td>\n",
              "      <td>Technology</td>\n",
              "      <td>Technology</td>\n",
              "      <td>USD</td>\n",
              "      <td>2016-02-13</td>\n",
              "      <td>15000.00</td>\n",
              "      <td>2016-01-13 18:13:53</td>\n",
              "      <td>200.00</td>\n",
              "      <td>failed</td>\n",
              "      <td>6</td>\n",
              "      <td>US</td>\n",
              "      <td>200.00</td>\n",
              "      <td>200.00</td>\n",
              "      <td>15000.00</td>\n",
              "      <td>0</td>\n",
              "      <td>0</td>\n",
              "      <td>0</td>\n",
              "      <td>0</td>\n",
              "      <td>0</td>\n",
              "      <td>0</td>\n",
              "      <td>0</td>\n",
              "      <td>0</td>\n",
              "      <td>0</td>\n",
              "      <td>0</td>\n",
              "      <td>0</td>\n",
              "      <td>0</td>\n",
              "      <td>0</td>\n",
              "      <td>0</td>\n",
              "      <td>1</td>\n",
              "    </tr>\n",
              "    <tr>\n",
              "      <th>378660</th>\n",
              "      <td>999988282</td>\n",
              "      <td>Nou Renmen Ayiti!  We Love Haiti!</td>\n",
              "      <td>Performance Art</td>\n",
              "      <td>Art</td>\n",
              "      <td>USD</td>\n",
              "      <td>2011-08-16</td>\n",
              "      <td>2000.00</td>\n",
              "      <td>2011-07-19 09:07:47</td>\n",
              "      <td>524.00</td>\n",
              "      <td>failed</td>\n",
              "      <td>17</td>\n",
              "      <td>US</td>\n",
              "      <td>524.00</td>\n",
              "      <td>524.00</td>\n",
              "      <td>2000.00</td>\n",
              "      <td>0</td>\n",
              "      <td>0</td>\n",
              "      <td>0</td>\n",
              "      <td>0</td>\n",
              "      <td>0</td>\n",
              "      <td>0</td>\n",
              "      <td>0</td>\n",
              "      <td>0</td>\n",
              "      <td>0</td>\n",
              "      <td>0</td>\n",
              "      <td>0</td>\n",
              "      <td>0</td>\n",
              "      <td>0</td>\n",
              "      <td>0</td>\n",
              "      <td>1</td>\n",
              "    </tr>\n",
              "  </tbody>\n",
              "</table>\n",
              "<p>378661 rows × 30 columns</p>\n",
              "</div>"
            ],
            "text/plain": [
              "                ID  ... currency_USD\n",
              "0       1000002330  ...            0\n",
              "1       1000003930  ...            1\n",
              "2       1000004038  ...            1\n",
              "3       1000007540  ...            1\n",
              "4       1000011046  ...            1\n",
              "...            ...  ...          ...\n",
              "378656   999976400  ...            1\n",
              "378657   999977640  ...            1\n",
              "378658   999986353  ...            1\n",
              "378659   999987933  ...            1\n",
              "378660   999988282  ...            1\n",
              "\n",
              "[378661 rows x 30 columns]"
            ]
          },
          "metadata": {
            "tags": []
          },
          "execution_count": 68
        }
      ]
    },
    {
      "cell_type": "markdown",
      "metadata": {
        "id": "ESwxdI3GTmxX",
        "colab_type": "text"
      },
      "source": [
        "#### Ejercicio 5\n",
        "\n",
        "1. ¿Hay proyecto éxitosos que no consiguieron el objetivo? Si hay, ¿Qué porcentaje sí y cuál no?\n",
        "2. Calcular una tabla con la cantidad de proyectos por categoría principal y estado."
      ]
    },
    {
      "cell_type": "code",
      "metadata": {
        "id": "ptGQtSY_TnPz",
        "colab_type": "code",
        "colab": {
          "base_uri": "https://localhost:8080/",
          "height": 52
        },
        "outputId": "ab969ba1-8e51-44d4-dafa-bdd235e9435d"
      },
      "source": [
        "# numero de proyectos exitosos que no consiguieron el objetivo\n",
        "\n",
        "suc_total = len(ks_2018[(ks_2018.state == 'successful')])\n",
        "suc_and_pledged = len(ks_2018[(ks_2018.state == 'successful') & (ks_2018.pledged >= ks_2018.goal)])\n",
        "suc_and_no_pledged = len(ks_2018[(ks_2018.state == 'successful') & (ks_2018.pledged < ks_2018.goal)])\n",
        "\n",
        "print('Porcentaje de proyectos éxitosos que no consiguieron el objetivo respecto al total de proyectos éxitosos: {:.6f}'.format(suc_and_no_pledged / suc_total))\n",
        "print('Porcentaje de proyectos éxitosos que si consiguieron el objetivo respecto al total de proyectos éxitosos: {:.6f}'.format(suc_and_pledged / suc_total))\n"
      ],
      "execution_count": 69,
      "outputs": [
        {
          "output_type": "stream",
          "text": [
            "Porcentaje de proyectos éxitosos que no consiguieron el objetivo respecto al total de proyectos éxitosos: 0.000037\n",
            "Porcentaje de proyectos éxitosos que si consiguieron el objetivo respecto al total de proyectos éxitosos: 0.999963\n"
          ],
          "name": "stdout"
        }
      ]
    },
    {
      "cell_type": "code",
      "metadata": {
        "id": "kEQamqu7Yhkf",
        "colab_type": "code",
        "colab": {
          "base_uri": "https://localhost:8080/",
          "height": 341
        },
        "outputId": "c5f0388e-4c8b-418a-e19f-495f729f72e7"
      },
      "source": [
        "# tabla con cantidad de proyectos por categoría principal vs estado final\n",
        "table = ks_2018.pivot_table(values='name',index='state',columns='main_category', aggfunc='count')\n",
        "\n",
        "print('Tabla con cantidad de proyectos por categoría principal en cada estado:\\n')\n",
        "display(table)"
      ],
      "execution_count": 70,
      "outputs": [
        {
          "output_type": "stream",
          "text": [
            "Tabla con cantidad de proyectos por categoría principal en cada estado:\n",
            "\n"
          ],
          "name": "stdout"
        },
        {
          "output_type": "display_data",
          "data": {
            "text/html": [
              "<div>\n",
              "<style scoped>\n",
              "    .dataframe tbody tr th:only-of-type {\n",
              "        vertical-align: middle;\n",
              "    }\n",
              "\n",
              "    .dataframe tbody tr th {\n",
              "        vertical-align: top;\n",
              "    }\n",
              "\n",
              "    .dataframe thead th {\n",
              "        text-align: right;\n",
              "    }\n",
              "</style>\n",
              "<table border=\"1\" class=\"dataframe\">\n",
              "  <thead>\n",
              "    <tr style=\"text-align: right;\">\n",
              "      <th>main_category</th>\n",
              "      <th>Art</th>\n",
              "      <th>Comics</th>\n",
              "      <th>Crafts</th>\n",
              "      <th>Dance</th>\n",
              "      <th>Design</th>\n",
              "      <th>Fashion</th>\n",
              "      <th>Film &amp; Video</th>\n",
              "      <th>Food</th>\n",
              "      <th>Games</th>\n",
              "      <th>Journalism</th>\n",
              "      <th>Music</th>\n",
              "      <th>Photography</th>\n",
              "      <th>Publishing</th>\n",
              "      <th>Technology</th>\n",
              "      <th>Theater</th>\n",
              "    </tr>\n",
              "    <tr>\n",
              "      <th>state</th>\n",
              "      <th></th>\n",
              "      <th></th>\n",
              "      <th></th>\n",
              "      <th></th>\n",
              "      <th></th>\n",
              "      <th></th>\n",
              "      <th></th>\n",
              "      <th></th>\n",
              "      <th></th>\n",
              "      <th></th>\n",
              "      <th></th>\n",
              "      <th></th>\n",
              "      <th></th>\n",
              "      <th></th>\n",
              "      <th></th>\n",
              "    </tr>\n",
              "  </thead>\n",
              "  <tbody>\n",
              "    <tr>\n",
              "      <th>canceled</th>\n",
              "      <td>2222.00</td>\n",
              "      <td>842.00</td>\n",
              "      <td>843.00</td>\n",
              "      <td>163.00</td>\n",
              "      <td>4152.00</td>\n",
              "      <td>2650.00</td>\n",
              "      <td>5755.00</td>\n",
              "      <td>2211.00</td>\n",
              "      <td>6202.00</td>\n",
              "      <td>523.00</td>\n",
              "      <td>3305.00</td>\n",
              "      <td>986.00</td>\n",
              "      <td>3602.00</td>\n",
              "      <td>4715.00</td>\n",
              "      <td>608.00</td>\n",
              "    </tr>\n",
              "    <tr>\n",
              "      <th>failed</th>\n",
              "      <td>14130.00</td>\n",
              "      <td>4036.00</td>\n",
              "      <td>5703.00</td>\n",
              "      <td>1235.00</td>\n",
              "      <td>14814.00</td>\n",
              "      <td>14182.00</td>\n",
              "      <td>32903.00</td>\n",
              "      <td>15969.00</td>\n",
              "      <td>16002.00</td>\n",
              "      <td>3137.00</td>\n",
              "      <td>21752.00</td>\n",
              "      <td>6384.00</td>\n",
              "      <td>23145.00</td>\n",
              "      <td>20616.00</td>\n",
              "      <td>3708.00</td>\n",
              "    </tr>\n",
              "    <tr>\n",
              "      <th>live</th>\n",
              "      <td>194.00</td>\n",
              "      <td>76.00</td>\n",
              "      <td>76.00</td>\n",
              "      <td>18.00</td>\n",
              "      <td>305.00</td>\n",
              "      <td>250.00</td>\n",
              "      <td>332.00</td>\n",
              "      <td>184.00</td>\n",
              "      <td>287.00</td>\n",
              "      <td>31.00</td>\n",
              "      <td>281.00</td>\n",
              "      <td>48.00</td>\n",
              "      <td>299.00</td>\n",
              "      <td>377.00</td>\n",
              "      <td>41.00</td>\n",
              "    </tr>\n",
              "    <tr>\n",
              "      <th>successful</th>\n",
              "      <td>11510.00</td>\n",
              "      <td>5842.00</td>\n",
              "      <td>2115.00</td>\n",
              "      <td>2338.00</td>\n",
              "      <td>10550.00</td>\n",
              "      <td>5593.00</td>\n",
              "      <td>23623.00</td>\n",
              "      <td>6085.00</td>\n",
              "      <td>12518.00</td>\n",
              "      <td>1012.00</td>\n",
              "      <td>24197.00</td>\n",
              "      <td>3305.00</td>\n",
              "      <td>12300.00</td>\n",
              "      <td>6434.00</td>\n",
              "      <td>6534.00</td>\n",
              "    </tr>\n",
              "    <tr>\n",
              "      <th>suspended</th>\n",
              "      <td>96.00</td>\n",
              "      <td>23.00</td>\n",
              "      <td>72.00</td>\n",
              "      <td>13.00</td>\n",
              "      <td>246.00</td>\n",
              "      <td>138.00</td>\n",
              "      <td>117.00</td>\n",
              "      <td>153.00</td>\n",
              "      <td>220.00</td>\n",
              "      <td>52.00</td>\n",
              "      <td>149.00</td>\n",
              "      <td>55.00</td>\n",
              "      <td>66.00</td>\n",
              "      <td>424.00</td>\n",
              "      <td>21.00</td>\n",
              "    </tr>\n",
              "    <tr>\n",
              "      <th>undefined</th>\n",
              "      <td>nan</td>\n",
              "      <td>nan</td>\n",
              "      <td>nan</td>\n",
              "      <td>1.00</td>\n",
              "      <td>2.00</td>\n",
              "      <td>3.00</td>\n",
              "      <td>854.00</td>\n",
              "      <td>nan</td>\n",
              "      <td>1.00</td>\n",
              "      <td>nan</td>\n",
              "      <td>2234.00</td>\n",
              "      <td>1.00</td>\n",
              "      <td>462.00</td>\n",
              "      <td>3.00</td>\n",
              "      <td>1.00</td>\n",
              "    </tr>\n",
              "  </tbody>\n",
              "</table>\n",
              "</div>"
            ],
            "text/plain": [
              "main_category      Art  Comics  Crafts  ...  Publishing  Technology  Theater\n",
              "state                                   ...                                 \n",
              "canceled       2222.00  842.00  843.00  ...     3602.00     4715.00   608.00\n",
              "failed        14130.00 4036.00 5703.00  ...    23145.00    20616.00  3708.00\n",
              "live            194.00   76.00   76.00  ...      299.00      377.00    41.00\n",
              "successful    11510.00 5842.00 2115.00  ...    12300.00     6434.00  6534.00\n",
              "suspended        96.00   23.00   72.00  ...       66.00      424.00    21.00\n",
              "undefined          nan     nan     nan  ...      462.00        3.00     1.00\n",
              "\n",
              "[6 rows x 15 columns]"
            ]
          },
          "metadata": {
            "tags": []
          }
        }
      ]
    },
    {
      "cell_type": "markdown",
      "metadata": {
        "id": "75fZ4GhRToOG",
        "colab_type": "text"
      },
      "source": [
        "#### Ejercicio 6\n",
        "\n",
        "Calcular los valores atípicos de 'usd_goal_real' y graficar los boxplots, con y sin estos valores por categoría"
      ]
    },
    {
      "cell_type": "code",
      "metadata": {
        "id": "b0G32sIVTqpX",
        "colab_type": "code",
        "colab": {
          "base_uri": "https://localhost:8080/",
          "height": 861
        },
        "outputId": "fa2410be-e9e8-4c8a-c726-dfd485b9f004"
      },
      "source": [
        "# proyectos con valores outliers en 'usd_goal_real' \n",
        "outliers = ks_2018[ks_2018.usd_goal_real > (ks_2018.usd_goal_real.mean() + \n",
        "                                                            3 * ks_2018.usd_goal_real.std())]\n",
        "\n",
        "display(outliers)"
      ],
      "execution_count": 71,
      "outputs": [
        {
          "output_type": "display_data",
          "data": {
            "text/html": [
              "<div>\n",
              "<style scoped>\n",
              "    .dataframe tbody tr th:only-of-type {\n",
              "        vertical-align: middle;\n",
              "    }\n",
              "\n",
              "    .dataframe tbody tr th {\n",
              "        vertical-align: top;\n",
              "    }\n",
              "\n",
              "    .dataframe thead th {\n",
              "        text-align: right;\n",
              "    }\n",
              "</style>\n",
              "<table border=\"1\" class=\"dataframe\">\n",
              "  <thead>\n",
              "    <tr style=\"text-align: right;\">\n",
              "      <th></th>\n",
              "      <th>ID</th>\n",
              "      <th>name</th>\n",
              "      <th>category</th>\n",
              "      <th>main_category</th>\n",
              "      <th>currency</th>\n",
              "      <th>deadline</th>\n",
              "      <th>goal</th>\n",
              "      <th>launched</th>\n",
              "      <th>pledged</th>\n",
              "      <th>state</th>\n",
              "      <th>backers</th>\n",
              "      <th>country</th>\n",
              "      <th>usd pledged</th>\n",
              "      <th>usd_pledged_real</th>\n",
              "      <th>usd_goal_real</th>\n",
              "      <th>name_weirdness</th>\n",
              "    </tr>\n",
              "  </thead>\n",
              "  <tbody>\n",
              "    <tr>\n",
              "      <th>1795</th>\n",
              "      <td>1009207145</td>\n",
              "      <td>** GOLIATH **</td>\n",
              "      <td>Product Design</td>\n",
              "      <td>Design</td>\n",
              "      <td>CAD</td>\n",
              "      <td>2014-07-21</td>\n",
              "      <td>3850000.00</td>\n",
              "      <td>2014-06-21 22:34:21</td>\n",
              "      <td>285.00</td>\n",
              "      <td>failed</td>\n",
              "      <td>5</td>\n",
              "      <td>CA</td>\n",
              "      <td>263.41</td>\n",
              "      <td>264.67</td>\n",
              "      <td>3575408.62</td>\n",
              "      <td>0</td>\n",
              "    </tr>\n",
              "    <tr>\n",
              "      <th>2993</th>\n",
              "      <td>1015466274</td>\n",
              "      <td>Genesis</td>\n",
              "      <td>Film &amp; Video</td>\n",
              "      <td>Film &amp; Video</td>\n",
              "      <td>EUR</td>\n",
              "      <td>2015-09-01</td>\n",
              "      <td>5000000.00</td>\n",
              "      <td>2015-07-07 21:14:52</td>\n",
              "      <td>0.00</td>\n",
              "      <td>failed</td>\n",
              "      <td>0</td>\n",
              "      <td>IT</td>\n",
              "      <td>0.00</td>\n",
              "      <td>0.00</td>\n",
              "      <td>5568982.99</td>\n",
              "      <td>0</td>\n",
              "    </tr>\n",
              "    <tr>\n",
              "      <th>3140</th>\n",
              "      <td>1016210580</td>\n",
              "      <td>INDIRA – THE FIRST INDIAN GRAND MUSICAL</td>\n",
              "      <td>Musical</td>\n",
              "      <td>Theater</td>\n",
              "      <td>EUR</td>\n",
              "      <td>2016-04-27</td>\n",
              "      <td>15000000.00</td>\n",
              "      <td>2016-02-27 13:08:01</td>\n",
              "      <td>15.00</td>\n",
              "      <td>failed</td>\n",
              "      <td>6</td>\n",
              "      <td>ES</td>\n",
              "      <td>16.59</td>\n",
              "      <td>17.10</td>\n",
              "      <td>17104542.97</td>\n",
              "      <td>-1</td>\n",
              "    </tr>\n",
              "    <tr>\n",
              "      <th>5076</th>\n",
              "      <td>1025947904</td>\n",
              "      <td>Long island city new york art book (Canceled)</td>\n",
              "      <td>Photography</td>\n",
              "      <td>Photography</td>\n",
              "      <td>USD</td>\n",
              "      <td>2013-11-07</td>\n",
              "      <td>10000000.00</td>\n",
              "      <td>2013-10-08 23:16:26</td>\n",
              "      <td>0.00</td>\n",
              "      <td>canceled</td>\n",
              "      <td>0</td>\n",
              "      <td>US</td>\n",
              "      <td>0.00</td>\n",
              "      <td>0.00</td>\n",
              "      <td>10000000.00</td>\n",
              "      <td>0</td>\n",
              "    </tr>\n",
              "    <tr>\n",
              "      <th>5759</th>\n",
              "      <td>1029500715</td>\n",
              "      <td>Harambe World's Tallest Statue</td>\n",
              "      <td>Public Art</td>\n",
              "      <td>Art</td>\n",
              "      <td>USD</td>\n",
              "      <td>2016-11-25</td>\n",
              "      <td>20000000.00</td>\n",
              "      <td>2016-09-26 18:08:01</td>\n",
              "      <td>1.00</td>\n",
              "      <td>canceled</td>\n",
              "      <td>1</td>\n",
              "      <td>US</td>\n",
              "      <td>0.00</td>\n",
              "      <td>1.00</td>\n",
              "      <td>20000000.00</td>\n",
              "      <td>0</td>\n",
              "    </tr>\n",
              "    <tr>\n",
              "      <th>...</th>\n",
              "      <td>...</td>\n",
              "      <td>...</td>\n",
              "      <td>...</td>\n",
              "      <td>...</td>\n",
              "      <td>...</td>\n",
              "      <td>...</td>\n",
              "      <td>...</td>\n",
              "      <td>...</td>\n",
              "      <td>...</td>\n",
              "      <td>...</td>\n",
              "      <td>...</td>\n",
              "      <td>...</td>\n",
              "      <td>...</td>\n",
              "      <td>...</td>\n",
              "      <td>...</td>\n",
              "      <td>...</td>\n",
              "    </tr>\n",
              "    <tr>\n",
              "      <th>377139</th>\n",
              "      <td>992335258</td>\n",
              "      <td>XPOINT5 (Canceled)</td>\n",
              "      <td>Web</td>\n",
              "      <td>Technology</td>\n",
              "      <td>USD</td>\n",
              "      <td>2015-11-09</td>\n",
              "      <td>5000000.00</td>\n",
              "      <td>2015-09-10 23:08:39</td>\n",
              "      <td>0.00</td>\n",
              "      <td>canceled</td>\n",
              "      <td>0</td>\n",
              "      <td>US</td>\n",
              "      <td>0.00</td>\n",
              "      <td>0.00</td>\n",
              "      <td>5000000.00</td>\n",
              "      <td>0</td>\n",
              "    </tr>\n",
              "    <tr>\n",
              "      <th>377201</th>\n",
              "      <td>992624421</td>\n",
              "      <td>I don't know a comic book?</td>\n",
              "      <td>Comics</td>\n",
              "      <td>Comics</td>\n",
              "      <td>USD</td>\n",
              "      <td>2014-08-09</td>\n",
              "      <td>10000000.00</td>\n",
              "      <td>2014-07-10 06:11:48</td>\n",
              "      <td>10.00</td>\n",
              "      <td>failed</td>\n",
              "      <td>1</td>\n",
              "      <td>US</td>\n",
              "      <td>10.00</td>\n",
              "      <td>10.00</td>\n",
              "      <td>10000000.00</td>\n",
              "      <td>0</td>\n",
              "    </tr>\n",
              "    <tr>\n",
              "      <th>377444</th>\n",
              "      <td>993969686</td>\n",
              "      <td>Albert Einstein Museum</td>\n",
              "      <td>Technology</td>\n",
              "      <td>Technology</td>\n",
              "      <td>USD</td>\n",
              "      <td>2014-12-20</td>\n",
              "      <td>50000000.00</td>\n",
              "      <td>2014-10-23 01:46:17</td>\n",
              "      <td>240.00</td>\n",
              "      <td>failed</td>\n",
              "      <td>8</td>\n",
              "      <td>US</td>\n",
              "      <td>240.00</td>\n",
              "      <td>240.00</td>\n",
              "      <td>50000000.00</td>\n",
              "      <td>0</td>\n",
              "    </tr>\n",
              "    <tr>\n",
              "      <th>377649</th>\n",
              "      <td>994971752</td>\n",
              "      <td>Love Revolution 24</td>\n",
              "      <td>Country &amp; Folk</td>\n",
              "      <td>Music</td>\n",
              "      <td>USD</td>\n",
              "      <td>2015-02-24</td>\n",
              "      <td>39023437.00</td>\n",
              "      <td>2015-01-31 09:05:34</td>\n",
              "      <td>5.00</td>\n",
              "      <td>failed</td>\n",
              "      <td>5</td>\n",
              "      <td>US</td>\n",
              "      <td>5.00</td>\n",
              "      <td>5.00</td>\n",
              "      <td>39023437.00</td>\n",
              "      <td>0</td>\n",
              "    </tr>\n",
              "    <tr>\n",
              "      <th>378165</th>\n",
              "      <td>997671931</td>\n",
              "      <td>Food for FREE</td>\n",
              "      <td>Farms</td>\n",
              "      <td>Food</td>\n",
              "      <td>AUD</td>\n",
              "      <td>2014-12-08</td>\n",
              "      <td>4500000.00</td>\n",
              "      <td>2014-11-24 02:13:49</td>\n",
              "      <td>0.00</td>\n",
              "      <td>failed</td>\n",
              "      <td>0</td>\n",
              "      <td>AU</td>\n",
              "      <td>0.00</td>\n",
              "      <td>0.00</td>\n",
              "      <td>3721161.00</td>\n",
              "      <td>0</td>\n",
              "    </tr>\n",
              "  </tbody>\n",
              "</table>\n",
              "<p>372 rows × 16 columns</p>\n",
              "</div>"
            ],
            "text/plain": [
              "                ID  ... name_weirdness\n",
              "1795    1009207145  ...              0\n",
              "2993    1015466274  ...              0\n",
              "3140    1016210580  ...             -1\n",
              "5076    1025947904  ...              0\n",
              "5759    1029500715  ...              0\n",
              "...            ...  ...            ...\n",
              "377139   992335258  ...              0\n",
              "377201   992624421  ...              0\n",
              "377444   993969686  ...              0\n",
              "377649   994971752  ...              0\n",
              "378165   997671931  ...              0\n",
              "\n",
              "[372 rows x 16 columns]"
            ]
          },
          "metadata": {
            "tags": []
          }
        }
      ]
    },
    {
      "cell_type": "code",
      "metadata": {
        "id": "XxoDxHT8YuQx",
        "colab_type": "code",
        "colab": {
          "base_uri": "https://localhost:8080/",
          "height": 1000
        },
        "outputId": "649bdc38-0270-462e-8e81-3163a7de9842"
      },
      "source": [
        "plt.figure(figsize=(15,8))\n",
        "ax = sbn.boxplot(x='main_category',y= 'usd_goal_real', data=ks_2018)\n",
        "plt.ylabel('USD_goal_real')\n",
        "plt.xlabel('Main category')\n",
        "plt.title(\"Boxplot de 'USD_goal_real' por categoría principal con valores outliers\")\n",
        "plt.xticks(rotation=45)\n",
        "\n",
        "plt.figure(figsize=(15,8))\n",
        "ax = sbn.boxplot(x='main_category',y= 'usd_goal_real', data=ks_2018.drop(outliers.index))\n",
        "plt.ylabel('USD_goal_real')\n",
        "plt.xlabel('Main category')\n",
        "plt.title(\"Boxplot de 'USD_goal_real' por categoría principal sin valores outliers\")\n",
        "plt.xticks(rotation=45)"
      ],
      "execution_count": 72,
      "outputs": [
        {
          "output_type": "execute_result",
          "data": {
            "text/plain": [
              "(array([ 0,  1,  2,  3,  4,  5,  6,  7,  8,  9, 10, 11, 12, 13, 14]),\n",
              " <a list of 15 Text major ticklabel objects>)"
            ]
          },
          "metadata": {
            "tags": []
          },
          "execution_count": 72
        },
        {
          "output_type": "display_data",
          "data": {
            "image/png": "[encoded data removed]",
            "text/plain": [
              "<Figure size 1080x576 with 1 Axes>"
            ]
          },
          "metadata": {
            "tags": [],
            "needs_background": "light"
          }
        },
        {
          "output_type": "display_data",
          "data": {
            "image/png": "[encoded data removed]",
            "text/plain": [
              "<Figure size 1080x576 with 1 Axes>"
            ]
          },
          "metadata": {
            "tags": [],
            "needs_background": "light"
          }
        }
      ]
    }
  ]
}